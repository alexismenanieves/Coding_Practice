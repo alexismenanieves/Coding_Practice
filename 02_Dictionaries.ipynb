{
 "cells": [
  {
   "cell_type": "markdown",
   "metadata": {},
   "source": [
    "### Dictionaries\n",
    "\n",
    "Dictionaries are a fundamental data type in the Python programming \n",
    "language. These are organized in memory, as unordered, indexed, and \n",
    "mutable data structures. A data structure is an implementation, that a \n",
    "programming language provides a programmer, to store and access data \n",
    "efficiently. For example, think of a dictionary book that we use in our \n",
    "daily lives, it has many words and if you choose one, you'll get its \n",
    "corresponding meaning to the word. Similarly, here a dictionary stores \n",
    "data in pairs (key, value). As such, dictionaries store a mapping of \n",
    "unique keys to values. A dictionary consists of a collection of key \n",
    "value pairs. You could think it as an independent variable (key) and a \n",
    "dependent variable (value).\n",
    "\n",
    "From Python 3.7 and newer version, dictionaries preserve insertion order. \n",
    "In other languages they are called 'hash maps' or 'associative arrays'.\n",
    "\n",
    " "
   ]
  },
  {
   "cell_type": "code",
   "execution_count": 1,
   "metadata": {},
   "outputs": [
    {
     "data": {
      "text/plain": [
       "{'I': 1, 'II': 2, 'III': 3}"
      ]
     },
     "execution_count": 1,
     "metadata": {},
     "output_type": "execute_result"
    }
   ],
   "source": [
    "# Example of a dictionary\n",
    "d = {'I':1, 'II': 2, 'III': 3}\n",
    "d"
   ]
  },
  {
   "cell_type": "code",
   "execution_count": 2,
   "metadata": {},
   "outputs": [
    {
     "data": {
      "text/plain": [
       "{'Austin': 91185, 'Boston': 90171}"
      ]
     },
     "execution_count": 2,
     "metadata": {},
     "output_type": "execute_result"
    }
   ],
   "source": [
    "# Now proceed with common methods in dictionaries\n",
    "sal_info = {'Austin': 91185, 'Boston': 90171}\n",
    "sal_info"
   ]
  },
  {
   "cell_type": "code",
   "execution_count": 3,
   "metadata": {},
   "outputs": [
    {
     "data": {
      "text/plain": [
       "{'Austin': 91185, 'Boston': 95123}"
      ]
     },
     "execution_count": 3,
     "metadata": {},
     "output_type": "execute_result"
    }
   ],
   "source": [
    "# Assign value to a key\n",
    "sal_info['Boston'] = 95123\n",
    "sal_info"
   ]
  },
  {
   "cell_type": "code",
   "execution_count": 4,
   "metadata": {},
   "outputs": [
    {
     "data": {
      "text/plain": [
       "{'Austin': 91185, 'Boston': 95123, 'Atlanta': 91234}"
      ]
     },
     "execution_count": 4,
     "metadata": {},
     "output_type": "execute_result"
    }
   ],
   "source": [
    "# Assign a new value\n",
    "sal_info['Atlanta'] = 91234\n",
    "sal_info"
   ]
  },
  {
   "cell_type": "code",
   "execution_count": 5,
   "metadata": {},
   "outputs": [
    {
     "data": {
      "text/plain": [
       "3"
      ]
     },
     "execution_count": 5,
     "metadata": {},
     "output_type": "execute_result"
    }
   ],
   "source": [
    "# Find length of dictionary\n",
    "len(sal_info)"
   ]
  },
  {
   "cell_type": "code",
   "execution_count": 6,
   "metadata": {},
   "outputs": [
    {
     "data": {
      "text/plain": [
       "{'Austin': 91185, 'Boston': 95123}"
      ]
     },
     "execution_count": 6,
     "metadata": {},
     "output_type": "execute_result"
    }
   ],
   "source": [
    "# Delete element using del\n",
    "del sal_info['Atlanta']\n",
    "sal_info"
   ]
  },
  {
   "cell_type": "code",
   "execution_count": 7,
   "metadata": {},
   "outputs": [
    {
     "data": {
      "text/plain": [
       "91185"
      ]
     },
     "execution_count": 7,
     "metadata": {},
     "output_type": "execute_result"
    }
   ],
   "source": [
    "# Get an value by calling a key in a dictionary\n",
    "sal_info['Austin']"
   ]
  },
  {
   "cell_type": "code",
   "execution_count": 9,
   "metadata": {},
   "outputs": [
    {
     "data": {
      "text/plain": [
       "'No Info'"
      ]
     },
     "execution_count": 9,
     "metadata": {},
     "output_type": "execute_result"
    }
   ],
   "source": [
    "# Get an value by calling a absent key in a dictionary\n",
    "# sal_info['Atlanta'] this throws an error: KeyError\n",
    "sal_info.get('Atlanta', 'No Info')"
   ]
  },
  {
   "cell_type": "code",
   "execution_count": 11,
   "metadata": {},
   "outputs": [
    {
     "data": {
      "text/plain": [
       "{}"
      ]
     },
     "execution_count": 11,
     "metadata": {},
     "output_type": "execute_result"
    }
   ],
   "source": [
    "# Flush out a dictionary\n",
    "sal_info.clear()\n",
    "sal_info"
   ]
  },
  {
   "cell_type": "code",
   "execution_count": 12,
   "metadata": {},
   "outputs": [
    {
     "name": "stdout",
     "output_type": "stream",
     "text": [
      "{'Austin': 911985, 'Dallas': 89999, 'San Jose': 100989, 'Atlanta': 89286}\n"
     ]
    }
   ],
   "source": [
    "# Let's create a dictionary with dict \n",
    "sal_info = dict()\n",
    "sal_info = {'Austin': 911985, 'Dallas': 89999, 'San Jose': 100989, 'Atlanta': 89286}\n",
    "print(sal_info)"
   ]
  },
  {
   "cell_type": "code",
   "execution_count": 13,
   "metadata": {},
   "outputs": [
    {
     "name": "stdout",
     "output_type": "stream",
     "text": [
      "89999\n"
     ]
    }
   ],
   "source": [
    "# Proceed if there is a key named 'Dallas'\n",
    "if 'Dallas' in sal_info:\n",
    "    print(sal_info['Dallas'])\n",
    "else:\n",
    "    print('Not found')"
   ]
  },
  {
   "cell_type": "code",
   "execution_count": 14,
   "metadata": {},
   "outputs": [
    {
     "name": "stdout",
     "output_type": "stream",
     "text": [
      "911985\n",
      "89999\n",
      "100989\n",
      "89286\n"
     ]
    }
   ],
   "source": [
    "# Loop over dictionary, print values\n",
    "for location in sal_info:\n",
    "    print(sal_info[location])"
   ]
  },
  {
   "cell_type": "code",
   "execution_count": 15,
   "metadata": {},
   "outputs": [
    {
     "name": "stdout",
     "output_type": "stream",
     "text": [
      "Austin\n",
      "Dallas\n",
      "San Jose\n",
      "Atlanta\n"
     ]
    }
   ],
   "source": [
    "# Loop over dictionary, print keys\n",
    "for location in sal_info:\n",
    "    print(location) "
   ]
  }
 ],
 "metadata": {
  "kernelspec": {
   "display_name": "basicPython",
   "language": "python",
   "name": "python3"
  },
  "language_info": {
   "codemirror_mode": {
    "name": "ipython",
    "version": 3
   },
   "file_extension": ".py",
   "mimetype": "text/x-python",
   "name": "python",
   "nbconvert_exporter": "python",
   "pygments_lexer": "ipython3",
   "version": "3.10.10"
  }
 },
 "nbformat": 4,
 "nbformat_minor": 2
}
