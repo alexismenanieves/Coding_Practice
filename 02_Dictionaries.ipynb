{
 "cells": [
  {
   "cell_type": "markdown",
   "metadata": {},
   "source": [
    "### Dictionaries\n",
    "\n",
    "Dictionaries are a fundamental data type in the Python programming \n",
    "language. These are organized in memory, as unordered, indexed, and \n",
    "mutable data structures. A data structure is an implementation, that a \n",
    "programming language provides a programmer, to store and access data \n",
    "efficiently. For example, think of a dictionary book that we use in our \n",
    "daily lives, it has many words and if you choose one, you'll get its \n",
    "corresponding meaning to the word. Similarly, here a dictionary stores \n",
    "data in pairs (key, value). As such, dictionaries store a mapping of \n",
    "unique keys to values. A dictionary consists of a collection of key \n",
    "value pairs. You could think it as an independent variable (key) and a \n",
    "dependent variable (value)."
   ]
  },
  {
   "cell_type": "code",
   "execution_count": 1,
   "metadata": {},
   "outputs": [
    {
     "data": {
      "text/plain": [
       "{'I': 1, 'II': 2, 'III': 3}"
      ]
     },
     "execution_count": 1,
     "metadata": {},
     "output_type": "execute_result"
    }
   ],
   "source": [
    "# Example of a dictionary\n",
    "d = {'I':1, 'II': 2, 'III': 3}\n",
    "d"
   ]
  }
 ],
 "metadata": {
  "kernelspec": {
   "display_name": "basicPython",
   "language": "python",
   "name": "python3"
  },
  "language_info": {
   "codemirror_mode": {
    "name": "ipython",
    "version": 3
   },
   "file_extension": ".py",
   "mimetype": "text/x-python",
   "name": "python",
   "nbconvert_exporter": "python",
   "pygments_lexer": "ipython3",
   "version": "3.10.10"
  }
 },
 "nbformat": 4,
 "nbformat_minor": 2
}
