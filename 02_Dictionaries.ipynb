{
 "cells": [
  {
   "cell_type": "markdown",
   "metadata": {},
   "source": [
    "### Dictionaries\n",
    "\n",
    "Dictionaries are a fundamental data type in the Python programming \n",
    "language. These are organized in memory, as unordered, indexed, and \n",
    "mutable data structures. A data structure is an implementation, that a \n",
    "programming language provides a programmer, to store and access data \n",
    "efficiently. For example, think of a dictionary book that we use in our \n",
    "daily lives, it has many words and if you choose one, you'll get its \n",
    "corresponding meaning to the word. Similarly, here a dictionary stores \n",
    "data in pairs (key, value). As such, dictionaries store a mapping of \n",
    "unique keys to values. A dictionary consists of a collection of key \n",
    "value pairs. You could think it as an independent variable (key) and a \n",
    "dependent variable (value).\n",
    "\n",
    "From Python 3.7 and newer version, dictionaries preserve insertion order. \n",
    "In other languages they are called 'hash maps' or 'associative arrays'.\n",
    "\n",
    " "
   ]
  },
  {
   "cell_type": "code",
   "execution_count": 1,
   "metadata": {},
   "outputs": [
    {
     "data": {
      "text/plain": [
       "{'I': 1, 'II': 2, 'III': 3}"
      ]
     },
     "execution_count": 1,
     "metadata": {},
     "output_type": "execute_result"
    }
   ],
   "source": [
    "# Example of a dictionary\n",
    "d = {'I':1, 'II': 2, 'III': 3}\n",
    "d"
   ]
  },
  {
   "cell_type": "code",
   "execution_count": 2,
   "metadata": {},
   "outputs": [
    {
     "data": {
      "text/plain": [
       "{'Austin': 91185, 'Boston': 90171}"
      ]
     },
     "execution_count": 2,
     "metadata": {},
     "output_type": "execute_result"
    }
   ],
   "source": [
    "# Now proceed with common methods in dictionaries\n",
    "sal_info = {'Austin': 91185, 'Boston': 90171}\n",
    "sal_info"
   ]
  },
  {
   "cell_type": "code",
   "execution_count": 3,
   "metadata": {},
   "outputs": [
    {
     "data": {
      "text/plain": [
       "{'Austin': 91185, 'Boston': 95123}"
      ]
     },
     "execution_count": 3,
     "metadata": {},
     "output_type": "execute_result"
    }
   ],
   "source": [
    "# Assign value to a key\n",
    "sal_info['Boston'] = 95123\n",
    "sal_info"
   ]
  },
  {
   "cell_type": "code",
   "execution_count": 4,
   "metadata": {},
   "outputs": [
    {
     "data": {
      "text/plain": [
       "{'Austin': 91185, 'Boston': 95123, 'Atlanta': 91234}"
      ]
     },
     "execution_count": 4,
     "metadata": {},
     "output_type": "execute_result"
    }
   ],
   "source": [
    "# Assign a new value\n",
    "sal_info['Atlanta'] = 91234\n",
    "sal_info"
   ]
  },
  {
   "cell_type": "code",
   "execution_count": 5,
   "metadata": {},
   "outputs": [
    {
     "data": {
      "text/plain": [
       "3"
      ]
     },
     "execution_count": 5,
     "metadata": {},
     "output_type": "execute_result"
    }
   ],
   "source": [
    "# Find length of dictionary\n",
    "len(sal_info)"
   ]
  },
  {
   "cell_type": "code",
   "execution_count": 6,
   "metadata": {},
   "outputs": [
    {
     "data": {
      "text/plain": [
       "{'Austin': 91185, 'Boston': 95123}"
      ]
     },
     "execution_count": 6,
     "metadata": {},
     "output_type": "execute_result"
    }
   ],
   "source": [
    "# Delete element using del\n",
    "del sal_info['Atlanta']\n",
    "sal_info"
   ]
  },
  {
   "cell_type": "code",
   "execution_count": 7,
   "metadata": {},
   "outputs": [
    {
     "data": {
      "text/plain": [
       "91185"
      ]
     },
     "execution_count": 7,
     "metadata": {},
     "output_type": "execute_result"
    }
   ],
   "source": [
    "# Get an value by calling a key in a dictionary\n",
    "sal_info['Austin']"
   ]
  },
  {
   "cell_type": "code",
   "execution_count": 9,
   "metadata": {},
   "outputs": [
    {
     "data": {
      "text/plain": [
       "'No Info'"
      ]
     },
     "execution_count": 9,
     "metadata": {},
     "output_type": "execute_result"
    }
   ],
   "source": [
    "# Get an value by calling a absent key in a dictionary\n",
    "# sal_info['Atlanta'] this throws an error: KeyError\n",
    "sal_info.get('Atlanta', 'No Info')"
   ]
  },
  {
   "cell_type": "code",
   "execution_count": 11,
   "metadata": {},
   "outputs": [
    {
     "data": {
      "text/plain": [
       "{}"
      ]
     },
     "execution_count": 11,
     "metadata": {},
     "output_type": "execute_result"
    }
   ],
   "source": [
    "# Flush out a dictionary\n",
    "sal_info.clear()\n",
    "sal_info"
   ]
  },
  {
   "cell_type": "code",
   "execution_count": 12,
   "metadata": {},
   "outputs": [
    {
     "name": "stdout",
     "output_type": "stream",
     "text": [
      "{'Austin': 911985, 'Dallas': 89999, 'San Jose': 100989, 'Atlanta': 89286}\n"
     ]
    }
   ],
   "source": [
    "# Let's create a dictionary with dict \n",
    "sal_info = dict()\n",
    "sal_info = {'Austin': 911985, 'Dallas': 89999, 'San Jose': 100989, 'Atlanta': 89286}\n",
    "print(sal_info)"
   ]
  },
  {
   "cell_type": "code",
   "execution_count": 13,
   "metadata": {},
   "outputs": [
    {
     "name": "stdout",
     "output_type": "stream",
     "text": [
      "89999\n"
     ]
    }
   ],
   "source": [
    "# Proceed if there is a key named 'Dallas'\n",
    "if 'Dallas' in sal_info:\n",
    "    print(sal_info['Dallas'])\n",
    "else:\n",
    "    print('Not found')"
   ]
  },
  {
   "cell_type": "code",
   "execution_count": 14,
   "metadata": {},
   "outputs": [
    {
     "name": "stdout",
     "output_type": "stream",
     "text": [
      "911985\n",
      "89999\n",
      "100989\n",
      "89286\n"
     ]
    }
   ],
   "source": [
    "# Loop over dictionary, print values\n",
    "for location in sal_info:\n",
    "    print(sal_info[location])"
   ]
  },
  {
   "cell_type": "code",
   "execution_count": 15,
   "metadata": {},
   "outputs": [
    {
     "name": "stdout",
     "output_type": "stream",
     "text": [
      "Austin\n",
      "Dallas\n",
      "San Jose\n",
      "Atlanta\n"
     ]
    }
   ],
   "source": [
    "# Loop over dictionary, print keys\n",
    "for location in sal_info:\n",
    "    print(location) "
   ]
  },
  {
   "cell_type": "code",
   "execution_count": 18,
   "metadata": {},
   "outputs": [],
   "source": [
    "# Challenge: Read a CSV and pass it to a dictionary\n",
    "import csv\n",
    "with open('files/treeorderssubsetnodupes.csv','r') as infile:\n",
    "    reader = csv.reader(infile)\n",
    "    my_dict = {}\n",
    "    # if you exit the with statement, you can no longer access the file\n",
    "    for row in reader:\n",
    "        my_dict[row[0]] = row[1]\n",
    "    # and you must close the file\n",
    "    infile.close()"
   ]
  },
  {
   "cell_type": "code",
   "execution_count": 19,
   "metadata": {},
   "outputs": [
    {
     "data": {
      "text/plain": [
       "{'Subdivision_id': 'Num_trees',\n",
       " '205': '1',\n",
       " '219': '1',\n",
       " '234': '1',\n",
       " '262': '1',\n",
       " '897': '1',\n",
       " '281': '1',\n",
       " '235': '1',\n",
       " '166': '1',\n",
       " '257': '2',\n",
       " '714': '1',\n",
       " '261': '1',\n",
       " '196': '2',\n",
       " '721': '1',\n",
       " '753': '1',\n",
       " '273': '1',\n",
       " '283': '1',\n",
       " '180': '1',\n",
       " '727': '1',\n",
       " '239': '1',\n",
       " '195': '1',\n",
       " '639': '1',\n",
       " '199': '1',\n",
       " '480': '1',\n",
       " '665': '1',\n",
       " '214': '1',\n",
       " '762': '1',\n",
       " '198': '1',\n",
       " '643': '1',\n",
       " '226': '1',\n",
       " '898': '1',\n",
       " '223': '1',\n",
       " '730': '1',\n",
       " '271': '1',\n",
       " '292': '2',\n",
       " '301': '1',\n",
       " '871': '1',\n",
       " '521': '1',\n",
       " '228': '1',\n",
       " '163': '1',\n",
       " '274': '1',\n",
       " '719': '1',\n",
       " '241': '1',\n",
       " '469': '1',\n",
       " '236': '1',\n",
       " '557': '2',\n",
       " '787': '1',\n",
       " '624': '1',\n",
       " '293': '1',\n",
       " '798': '1',\n",
       " '720': '1',\n",
       " '888': '1',\n",
       " '648': '1',\n",
       " '282': '1',\n",
       " '248': '2',\n",
       " '853': '1',\n",
       " '303': '1',\n",
       " '755': '1',\n",
       " '173': '1',\n",
       " '569': '1',\n",
       " '161': '1',\n",
       " '797': '2',\n",
       " '165': '1',\n",
       " '522': '1',\n",
       " '811': '1',\n",
       " '632': '1',\n",
       " '828': '1',\n",
       " '778': '1',\n",
       " '277': '1',\n",
       " '627': '1',\n",
       " '194': '1',\n",
       " '576': '1',\n",
       " '832': '2',\n",
       " '660': '1',\n",
       " '831': '2',\n",
       " '833': '1',\n",
       " '644': '1',\n",
       " '193': '1',\n",
       " '642': '1',\n",
       " '487': '1',\n",
       " '278': '1',\n",
       " '221': '1',\n",
       " '496': '1',\n",
       " '835': '1',\n",
       " '211': '1',\n",
       " '259': '1',\n",
       " '275': '1',\n",
       " '618': '1',\n",
       " '923': '1',\n",
       " '162': '1',\n",
       " '168': '1',\n",
       " '206': '1',\n",
       " '524': '1',\n",
       " '884': '1',\n",
       " '795': '1',\n",
       " '916': '2',\n",
       " '181': '1',\n",
       " '838': '1',\n",
       " '770': '1',\n",
       " '289': '1',\n",
       " '633': '1',\n",
       " '217': '1',\n",
       " '931': '1',\n",
       " '691': '1',\n",
       " '541': '1',\n",
       " '476': '2',\n",
       " '298': '1',\n",
       " '634': '1',\n",
       " '841': '1',\n",
       " '911': '1',\n",
       " '846': '1',\n",
       " '561': '1',\n",
       " '172': '1',\n",
       " '809': '1',\n",
       " '564': '1',\n",
       " '606': '1',\n",
       " '905': '1',\n",
       " '666': '1',\n",
       " '483': '1',\n",
       " '817': '1',\n",
       " '473': '1',\n",
       " '746': '1',\n",
       " '484': '2',\n",
       " '697': '1',\n",
       " '591': '0',\n",
       " '855': '1',\n",
       " '670': '1',\n",
       " '197': '1',\n",
       " '906': '1',\n",
       " '903': '0',\n",
       " '550': '1',\n",
       " '203': '1',\n",
       " '174': '1',\n",
       " '812': '1',\n",
       " '860': '1',\n",
       " '263': '1',\n",
       " '863': '2',\n",
       " '843': '1',\n",
       " '295': '1',\n",
       " '917': '1',\n",
       " '866': '1',\n",
       " '739': '1',\n",
       " '749': '1',\n",
       " '867': '1',\n",
       " '899': '1',\n",
       " '169': '1',\n",
       " '264': '1',\n",
       " '920': '1',\n",
       " '900': '1',\n",
       " '213': '1',\n",
       " '879': '1',\n",
       " '896': '1',\n",
       " '915': '1',\n",
       " '573': '1',\n",
       " '231': '1',\n",
       " '477': '1',\n",
       " '921': '1',\n",
       " '814': '1',\n",
       " '202': '1'}"
      ]
     },
     "execution_count": 19,
     "metadata": {},
     "output_type": "execute_result"
    }
   ],
   "source": [
    "my_dict"
   ]
  }
 ],
 "metadata": {
  "kernelspec": {
   "display_name": "basicPython",
   "language": "python",
   "name": "python3"
  },
  "language_info": {
   "codemirror_mode": {
    "name": "ipython",
    "version": 3
   },
   "file_extension": ".py",
   "mimetype": "text/x-python",
   "name": "python",
   "nbconvert_exporter": "python",
   "pygments_lexer": "ipython3",
   "version": "3.10.10"
  }
 },
 "nbformat": 4,
 "nbformat_minor": 2
}
