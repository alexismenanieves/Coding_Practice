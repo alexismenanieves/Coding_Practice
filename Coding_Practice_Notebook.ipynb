{
 "cells": [
  {
   "cell_type": "markdown",
   "id": "described-thought",
   "metadata": {},
   "source": [
    "## Coding Practice"
   ]
  },
  {
   "cell_type": "markdown",
   "id": "bright-pointer",
   "metadata": {},
   "source": [
    "### 1. Maximum 69 number\n",
    "Given a positive integer num consisting only of digits 6 and 9. Return the maximum number you can get by changing at most one digit (6 becomes 9, and 9 becomes 6)."
   ]
  },
  {
   "cell_type": "code",
   "execution_count": 1,
   "id": "palestinian-luther",
   "metadata": {},
   "outputs": [
    {
     "data": {
      "text/plain": [
       "99696"
      ]
     },
     "execution_count": 1,
     "metadata": {},
     "output_type": "execute_result"
    }
   ],
   "source": [
    "def max69number(x: int)-> int:\n",
    "    \"\"\"\n",
    "    type x: int\n",
    "    rtype: int\n",
    "    \"\"\"\n",
    "    # Explanation: Just change the first 6 number to 9 and it will be the max number\n",
    "    return(int(str(x).replace('6','9',1)))\n",
    "\n",
    "max69number(96696)"
   ]
  },
  {
   "cell_type": "markdown",
   "id": "contrary-absorption",
   "metadata": {},
   "source": [
    "### 2. Two sum\n",
    "Given an array of integers *nums* and an integer *target*, return indices of the two numbers such that they add up to target. You may assume that each input would have exactly one solution, and you may not use the same element twice. You can return the answer in any order."
   ]
  },
  {
   "cell_type": "code",
   "execution_count": 2,
   "id": "fresh-webster",
   "metadata": {},
   "outputs": [
    {
     "data": {
      "text/plain": [
       "(1, 2)"
      ]
     },
     "execution_count": 2,
     "metadata": {},
     "output_type": "execute_result"
    }
   ],
   "source": [
    "def twosum(nums, target:int):\n",
    "    \"\"\"\n",
    "    type nums: List[int]\n",
    "    type target: int\n",
    "    rtype: List \n",
    "    \"\"\"\n",
    "    nums_index = [(v,index) for index, v in enumerate(nums)]\n",
    "    nums_index.sort()\n",
    "    begin, end = 0, len(nums) - 1\n",
    "    while begin < end:\n",
    "        curr = nums_index[begin][0] + nums_index[end][0]\n",
    "        if curr == target:\n",
    "            return(nums_index[begin][1],nums_index[end][1])\n",
    "        elif curr < target:\n",
    "            begin += 1\n",
    "        else:\n",
    "            end -= 1\n",
    "\n",
    "twosum([2,3,4],7)\n",
    "    "
   ]
  },
  {
   "cell_type": "markdown",
   "id": "durable-valentine",
   "metadata": {},
   "source": [
    "### 3. Plus one\n",
    "Given a non-empty array of decimal digits representing a non-negative integer, increment one to the integer. The digits are stored such that the most significant digit is at the head of the list, and each element in the array contains a single digit. You may assume the integer does not contain any leading zero, except the number 0 itself."
   ]
  },
  {
   "cell_type": "code",
   "execution_count": 3,
   "id": "responsible-dakota",
   "metadata": {},
   "outputs": [
    {
     "data": {
      "text/plain": [
       "[9, 8, 5, 0]"
      ]
     },
     "execution_count": 3,
     "metadata": {},
     "output_type": "execute_result"
    }
   ],
   "source": [
    "def plus_one(nums):\n",
    "    \"\"\"\n",
    "    type nums: List[int]\n",
    "    rtype: List[int]\n",
    "    \"\"\"\n",
    "    l_nums = len(nums)\n",
    "    for index in reversed(range(l_nums)):\n",
    "        if nums[index]<9:\n",
    "            nums[index] +=1\n",
    "            return nums\n",
    "        else:\n",
    "            nums[index] = 0\n",
    "    nums.insert(0,1)\n",
    "    return nums\n",
    "\n",
    "plus_one([9,8,4,9])\n",
    "            "
   ]
  },
  {
   "cell_type": "markdown",
   "id": "naughty-theme",
   "metadata": {},
   "source": [
    "### 4. A linked list implementation\n",
    "Linked list is defined as a data structure wherein the elements are not stored at contiguous memory locations and are linked using pointers. With this code we can create a singly linked list, with push, print and length methods."
   ]
  },
  {
   "cell_type": "code",
   "execution_count": 4,
   "id": "capable-johnson",
   "metadata": {},
   "outputs": [],
   "source": [
    "class Node:\n",
    "    def __init__(self, val):\n",
    "        self.value = val\n",
    "        self.next = None\n",
    "\n",
    "class LinkedList:\n",
    "    def __init__(self):\n",
    "        self.head = None\n",
    "    \n",
    "    def push(self, new_val):\n",
    "        new_node = Node(new_val)\n",
    "        new_node.next = self.head\n",
    "        self.head = new_node\n",
    "    \n",
    "    def print_elements(self):\n",
    "        if self.head is None:\n",
    "            return \"\"\n",
    "        node = self.head\n",
    "        while node:\n",
    "            print(node.value, end =' ')\n",
    "            node = node.next\n",
    "    \n",
    "    def length(self):\n",
    "        node = self.head\n",
    "        length = 0\n",
    "        while node:\n",
    "            length += 1\n",
    "            node = node.next\n",
    "        print(length)"
   ]
  },
  {
   "cell_type": "code",
   "execution_count": 5,
   "id": "referenced-daughter",
   "metadata": {},
   "outputs": [
    {
     "name": "stdout",
     "output_type": "stream",
     "text": [
      "9 7 6 "
     ]
    }
   ],
   "source": [
    "ll = LinkedList()\n",
    "ll.push(6)\n",
    "ll.push(7)\n",
    "ll.push(9)\n",
    "ll.print_elements()"
   ]
  },
  {
   "cell_type": "code",
   "execution_count": 6,
   "id": "gorgeous-adoption",
   "metadata": {},
   "outputs": [
    {
     "name": "stdout",
     "output_type": "stream",
     "text": [
      "3\n"
     ]
    }
   ],
   "source": [
    "ll.length()"
   ]
  },
  {
   "cell_type": "markdown",
   "id": "decimal-magnet",
   "metadata": {},
   "source": [
    "### 5. Check if random variable are independent\n",
    "In this question, we are given a table called distr_table with a joint probability distribution of two random variables X and Y\n",
    "\n",
    "|X|Y|pr  |\n",
    "|-|-|----|\n",
    "|0|1|0.30|\n",
    "|0|2|0.25|\n",
    "|1|1|0.15|\n",
    "|1|2|0.30|\n",
    "\n",
    "For example, $ P(X=0 \\wedge Y=1) = 0.3 $ and $ P(Y=1) = 0.3 + 0.15 = 0.45 $\n",
    "You can see that probabilities in the third column add up to 1.\n",
    "\n",
    "Write a function *check_independence* that for a given distribution table returns a named list with  three values: \n",
    "- First element (named are_independent): Is a boolean which states if X and Y are independent (true) or not (false). Two random variables are independent if for each possible value x for X and y for Y: $ P(X=x \\wedge Y=y) = P(X=x) * P(Y=y) $ \n",
    "- Second element (named cov): Is a covariance between X and Y (i is an indicator of i-th of n possible pairs $ Cov(X,Y) = \\sum_{i=1}^{n} p_i(x_i - \\mu_x)(y_i - \\mu_y) $ where $ \\mu_x = \\sum_{j=1}^{m} p_jx_j $ and $ \\mu_y = \\sum_{k=1}^{l} p_ky_k $ \n",
    "- Third element (named corr): Is a correlation coefficient between X and Y, such as $ corr(X,Y) = \\frac{Cov(X,Y)}{\\sigma_x \\sigma_y} $ where $ \\sigma_x = \\sqrt{\\sum_{j=1}^{m}p_j(x_j-\\mu_x)^2}$ and $ \\sigma_y = \\sqrt{\\sum_{k=1}^{l}p_k(y_k-\\mu_y)^2} $\n",
    "\n",
    "In above equations m and l are numbers of unique values of X and Y respectively. Note that you can't use built-in equations for covariance and correlations since we use distributions, not realizations to describe variables X and Y. "
   ]
  },
  {
   "cell_type": "code",
   "execution_count": 7,
   "id": "seventh-cardiff",
   "metadata": {},
   "outputs": [],
   "source": [
    "import pandas as pd\n",
    "from math import sqrt\n",
    "\n",
    "distr_table = pd.DataFrame({\n",
    "    'X': [0,0,1,1],\n",
    "    'Y': [1,2,1,2],\n",
    "    'pr': [0.3,0.25,0.15,0.3]\n",
    "})\n",
    "\n",
    "def mass(values, probs):\n",
    "    \"\"\"\n",
    "    Dict of value with marginal probability\n",
    "    \"\"\"\n",
    "    var_pr = {}\n",
    "    for i, pr in enumerate(probs):\n",
    "        var_pr[values[i]] = var_pr.get(values[i],.0) + pr\n",
    "    return var_pr\n",
    "\n",
    "def mean(mass_dict):\n",
    "    mu = .0\n",
    "    for val, pr in mass_dict.items():\n",
    "        mu += pr * val\n",
    "    return mu\n",
    "\n",
    "def std_dev(mass_dict, mu):\n",
    "    sigma = .0\n",
    "    for val, pr in mass_dict.items():\n",
    "        sigma += pr * pow(val-mu,2)\n",
    "    return sigma\n",
    "\n",
    "class CheckIndependence:\n",
    "    def __init__(self):\n",
    "        self.version = 1\n",
    "    \n",
    "    def check_independence(self, distr_table):\n",
    "        x_list = distr_table['X'].to_list()\n",
    "        y_list = distr_table['Y'].to_list()\n",
    "        pr_list = distr_table['pr'].to_list() \n",
    "        \n",
    "        x_mass = mass(x_list, pr_list) \n",
    "        y_mass = mass(y_list, pr_list) \n",
    "        \n",
    "        x_mean = mean(x_mass) \n",
    "        y_mean = mean(y_mass) \n",
    "        \n",
    "        independent = True \n",
    "        cov = .0 \n",
    "        \n",
    "        for i, pr in enumerate(pr_list): \n",
    "            x, y = x_list[i], y_list[i]\n",
    "            # Independence\n",
    "            if x != y:\n",
    "                if pr != x_mass[x] * y_mass[y]:\n",
    "                    independent = False\n",
    "            \n",
    "            cov += pr * (x - x_mean) * (y - y_mean)\n",
    "        \n",
    "        corr = cov / (std_dev(x_mass, x_mean) * (std_dev(y_mass, y_mean)))\n",
    "        \n",
    "        return {'are_independent': independent, 'cov': cov, 'corr': corr}\n",
    "\n"
   ]
  },
  {
   "cell_type": "code",
   "execution_count": 8,
   "id": "grand-stability",
   "metadata": {},
   "outputs": [
    {
     "data": {
      "text/plain": [
       "{'are_independent': False, 'cov': 0.0525, 'corr': 0.8570554025099479}"
      ]
     },
     "execution_count": 8,
     "metadata": {},
     "output_type": "execute_result"
    }
   ],
   "source": [
    "test = CheckIndependence()\n",
    "test.check_independence(distr_table)"
   ]
  },
  {
   "cell_type": "markdown",
   "id": "sized-advocate",
   "metadata": {},
   "source": [
    "### 6. Binary gap\n",
    "A binary gap within a positive integer N is any maximal sequence of consecutive zeros that is surrounded by ones at both ends in the binary representation of N. For example, number 529 has a binary representation of 1000010001 and contains a binary gap of lenght 4"
   ]
  },
  {
   "cell_type": "code",
   "execution_count": 9,
   "id": "forbidden-phone",
   "metadata": {},
   "outputs": [
    {
     "data": {
      "text/plain": [
       "4"
      ]
     },
     "execution_count": 9,
     "metadata": {},
     "output_type": "execute_result"
    }
   ],
   "source": [
    "def binary_gap(num:int):\n",
    "    \"\"\"\n",
    "    type num: int\n",
    "    rtype: int\n",
    "    \"\"\"\n",
    "    return len(max(format(num,'b').strip('0').split('1')))\n",
    "\n",
    "binary_gap(529)"
   ]
  },
  {
   "cell_type": "markdown",
   "id": "mexican-wisdom",
   "metadata": {},
   "source": [
    "### 7. Cyclic rotation\n",
    "An array A consisting of N integers is given. Rotation of the array means that each element is shifted right by one index, and the last element of the array is moved to the first place. For example, the rotation of array A=[3,8,9,7,6] is [6,3,8,9,7] (elements are shifted right by one index and 6 is moved to the first place). The goal is to rotate A K times; that is, each element of A will be shifted to the right K times."
   ]
  },
  {
   "cell_type": "code",
   "execution_count": 13,
   "id": "valued-printing",
   "metadata": {},
   "outputs": [
    {
     "data": {
      "text/plain": [
       "[3, 4, 1, 2]"
      ]
     },
     "execution_count": 13,
     "metadata": {},
     "output_type": "execute_result"
    }
   ],
   "source": [
    "def cyclic_rotation(num:list, k:int):\n",
    "    \"\"\"\n",
    "    type num: list[int]\n",
    "    type k: int\n",
    "    rtype: list[int]\n",
    "    \"\"\"\n",
    "    if not len(num):\n",
    "        return num\n",
    "    k_pure = (len(num)+k) % len(num)\n",
    "    if k_pure == 0:\n",
    "        return num\n",
    "    else:\n",
    "        head = num[len(num) - k_pure:]\n",
    "        tail = num[:-k_pure]\n",
    "        return head+tail\n",
    "\n",
    "cyclic_rotation([1,2,3,4],2)"
   ]
  },
  {
   "cell_type": "markdown",
   "id": "extraordinary-edgar",
   "metadata": {},
   "source": [
    "### 8. Reverse integer\n",
    "Given a signed 32-bit integer x, return x with its digits reversed. If reversing x causes the value to go outside the signed 32-bit integer range $ [-2^{31}, 2^{31}- 1] $, then return 0."
   ]
  },
  {
   "cell_type": "code",
   "execution_count": 14,
   "id": "biological-remedy",
   "metadata": {},
   "outputs": [
    {
     "data": {
      "text/plain": [
       "321"
      ]
     },
     "execution_count": 14,
     "metadata": {},
     "output_type": "execute_result"
    }
   ],
   "source": [
    "def reverse_integer(num:int):\n",
    "    \"\"\"\n",
    "    type num: int\n",
    "    rtype: int\n",
    "    \"\"\"\n",
    "    res, isPos = 0,1\n",
    "    if num<0:\n",
    "        isPos = -1\n",
    "        num *= -1\n",
    "    while num !=0:\n",
    "        res = res*10 + num%10\n",
    "        if res > 2147483647:\n",
    "            return 0\n",
    "        num //= 10\n",
    "    return res * isPos\n",
    "\n",
    "reverse_integer(123)"
   ]
  },
  {
   "cell_type": "markdown",
   "id": "needed-youth",
   "metadata": {},
   "source": [
    "### 9. Letter filter\n",
    "For a given definition of a class LetterFilter, complete its methods *filter_vowels* and *filter_consonants*. The class takes a string in the constructor and store it to its *s* attribute. The method *filter_vowels* must return a new string with all vowels removed from it. Similarly, the method *filter_consonants* must return a nuew string with all consonants removed from it."
   ]
  },
  {
   "cell_type": "code",
   "execution_count": 15,
   "id": "dominant-columbia",
   "metadata": {},
   "outputs": [],
   "source": [
    "class LetterFilter:\n",
    "    \n",
    "    def __init__(self,s):\n",
    "        self.s = s\n",
    "    \n",
    "    def filter_vowels(self):\n",
    "        return \"\".join([chr for chr in self.s if chr not in \"aeiou\"])\n",
    "    \n",
    "    def filter_consonants(self):\n",
    "        return \"\".join([chr for chr in self.s if chr in \"aeiou\"])\n",
    "\n",
    "lf = LetterFilter(\"Massachusetts\")"
   ]
  },
  {
   "cell_type": "code",
   "execution_count": 16,
   "id": "signed-puzzle",
   "metadata": {},
   "outputs": [
    {
     "data": {
      "text/plain": [
       "'Msschstts'"
      ]
     },
     "execution_count": 16,
     "metadata": {},
     "output_type": "execute_result"
    }
   ],
   "source": [
    "lf.filter_vowels()"
   ]
  },
  {
   "cell_type": "code",
   "execution_count": 17,
   "id": "alive-cyprus",
   "metadata": {},
   "outputs": [
    {
     "data": {
      "text/plain": [
       "'aaue'"
      ]
     },
     "execution_count": 17,
     "metadata": {},
     "output_type": "execute_result"
    }
   ],
   "source": [
    "lf.filter_consonants()"
   ]
  },
  {
   "cell_type": "markdown",
   "id": "asian-dynamics",
   "metadata": {},
   "source": [
    "### 10. K-subarrays\n",
    "It's a subarray, i.e. made of contiguous elements in the array where the sum of the subarray elements *s* is evenly divisible by *k* i.e. sum mod k = 0."
   ]
  },
  {
   "cell_type": "code",
   "execution_count": 1,
   "id": "elder-basketball",
   "metadata": {},
   "outputs": [
    {
     "data": {
      "text/plain": [
       "2"
      ]
     },
     "execution_count": 1,
     "metadata": {},
     "output_type": "execute_result"
    }
   ],
   "source": [
    "def kSub(k:int, nums:list):\n",
    "    \"\"\"\n",
    "    type k: int\n",
    "    type nums: list\n",
    "    rtype: int\n",
    "    \"\"\"\n",
    "    l_nums = len(nums)\n",
    "    p = 2\n",
    "    counter = 0\n",
    "    for i in range(l_nums):\n",
    "        for j in range(p,l_nums+1): \n",
    "            if(sum(nums[i:j])%k == 0):\n",
    "                counter += 1\n",
    "        p +=1\n",
    "    return counter\n",
    "\n",
    "kSub(2,[1,2,3,4])        "
   ]
  },
  {
   "cell_type": "code",
   "execution_count": 19,
   "id": "solved-forge",
   "metadata": {},
   "outputs": [
    {
     "name": "stdout",
     "output_type": "stream",
     "text": [
      "[1, 2]\n",
      "[1, 2, 3]\n",
      "[1, 2, 3, 4]\n",
      "[2, 3]\n",
      "[2, 3, 4]\n",
      "[3, 4]\n"
     ]
    }
   ],
   "source": [
    "def nSub(nums:list):\n",
    "    \"\"\"\n",
    "    type nums: list\n",
    "    \"\"\"\n",
    "    l_nums = len(nums)\n",
    "    p = 2\n",
    "    for i in range(l_nums):\n",
    "        for j in range(p,l_nums+1): \n",
    "            print(nums[i:j])\n",
    "        p += 1\n",
    "\n",
    "nSub([1,2,3,4])"
   ]
  },
  {
   "cell_type": "code",
   "execution_count": 20,
   "id": "weighted-joshua",
   "metadata": {},
   "outputs": [
    {
     "name": "stdout",
     "output_type": "stream",
     "text": [
      "[3, 4]\n",
      "[3, 4, 5]\n",
      "[3, 4, 5, 6]\n",
      "[4, 5]\n",
      "[4, 5, 6]\n",
      "[5, 6]\n"
     ]
    }
   ],
   "source": [
    "def pSubs(nums:list):\n",
    "    l_nums = len(nums)\n",
    "    p = 2\n",
    "    for i in range(l_nums):\n",
    "        for j in range(p,l_nums+1):\n",
    "            print(nums[i:j])\n",
    "        p += 1\n",
    "\n",
    "pSubs([3,4,5,6])"
   ]
  },
  {
   "cell_type": "markdown",
   "id": "commercial-constant",
   "metadata": {},
   "source": [
    "### 11. Integer to Roman\n",
    "Roman numerals are represented by seven different symbols: I, V, X, L, C, D and M. For example, 2 is written as II in Roman numeral, just two one's added together. 12 is written as XII, which is simply X + II. The number 27 is written as XXVII, which is XX + V + II.\n",
    "\n",
    "Roman numerals are usually written largest to smallest from left to right. However, the numeral for four is not IIII. Instead, the number four is written as IV. Because the one is before the five we subtract it making four. The same principle applies to the number nine, which is written as IX. There are six instances where subtraction is used:\n",
    "\n",
    "I can be placed before V (5) and X (10) to make 4 and 9. \n",
    "X can be placed before L (50) and C (100) to make 40 and 90. \n",
    "C can be placed before D (500) and M (1000) to make 400 and 900.\n",
    "Given an integer, convert it to a roman numeral."
   ]
  },
  {
   "cell_type": "code",
   "execution_count": 21,
   "id": "eight-southeast",
   "metadata": {},
   "outputs": [
    {
     "data": {
      "text/plain": [
       "'CXXIII'"
      ]
     },
     "execution_count": 21,
     "metadata": {},
     "output_type": "execute_result"
    }
   ],
   "source": [
    "def intToRoman(num):\n",
    "        num_map = [(1000,'M'),(900,'CM'),(500,'D'),(400,'CD'),\n",
    "                  (100,'C'),(90,'XC'),(50,'L'),(40,'XL'),\n",
    "                  (10,'X'),(9,'IX'),(5,'V'),(4,'IV'),(1,'I')]\n",
    "        roman = ''\n",
    "        while(num>0):\n",
    "            for i,r in num_map:\n",
    "                while(num >= i):\n",
    "                    roman += r\n",
    "                    num -= i\n",
    "        return roman\n",
    "\n",
    "intToRoman(123)"
   ]
  },
  {
   "cell_type": "markdown",
   "id": "eb21193b-f631-4efa-8722-4ddcd78ff019",
   "metadata": {},
   "source": [
    "### 12. Longest substring\n",
    "Given a string s, find the length of the longest substring without repeating characters. For example:\n",
    "- \"abcabcbb\" gives 3 (sequence abc)\n",
    "- \"bbbbb\" gives 1 (only b without repeating)\n",
    "- \"pwwkew\" gives 3 "
   ]
  },
  {
   "cell_type": "code",
   "execution_count": 21,
   "id": "47679047-bf1f-449e-8eea-ea32f03d475d",
   "metadata": {},
   "outputs": [],
   "source": [
    "def longest_substring(s: str) -> int:\n",
    "    chain = ''\n",
    "    count = 0\n",
    "    for i in s:\n",
    "        if i not in chain:\n",
    "            chain += i\n",
    "            print(f'i: {i}, chain:{chain}')\n",
    "        else:\n",
    "            chain = chain[chain.index(i)+1:] + i\n",
    "            print(f'i: {i}, chain:{chain}')\n",
    "        count = max(count, len(chain))\n",
    "    return count"
   ]
  },
  {
   "cell_type": "markdown",
   "id": "loving-neighborhood",
   "metadata": {},
   "source": [
    "### 12. Nth-digit\n",
    "Given an integer n, return the nth digit of the infinite integer sequence [1, 2, 3, 4, 5, 6, 7, 8, 9, 10, ...]. Example n=11, then the 11th digit of the sequence 1, 2, 3, 4, 5, 6, 7, 8, 9, 10, 11, ... is a 0, which is part of the number 10."
   ]
  },
  {
   "cell_type": "code",
   "execution_count": 27,
   "id": "06f9822b",
   "metadata": {},
   "outputs": [],
   "source": [
    "def nth_digit(x: int)->int:\n",
    "    my_list = []\n",
    "    my_split = []\n",
    "    for i in range(x):\n",
    "        if len(str(i+1))<2:\n",
    "            my_list.append(i+1)\n",
    "        else:\n",
    "            my_split = list(map(int,str(i+1)))\n",
    "            my_list.extend(my_split)\n",
    "    return my_list[x-1]"
   ]
  },
  {
   "cell_type": "code",
   "execution_count": 32,
   "id": "b6f24f17",
   "metadata": {},
   "outputs": [
    {
     "data": {
      "text/plain": [
       "2"
      ]
     },
     "execution_count": 32,
     "metadata": {},
     "output_type": "execute_result"
    }
   ],
   "source": [
    "nth_digit(15)"
   ]
  },
  {
   "cell_type": "markdown",
   "id": "c662209f",
   "metadata": {},
   "source": [
    "### 13. Distinct values in a list\n",
    "Compute number of distinct values in an array. Given a zero-indexed \n",
    "array A consisting of N integers, return the number of distinct values \n",
    "in array A.\n",
    "\n",
    "Assume that:\n",
    "- N is an integer within the range [0..100,000];\n",
    "- Each element of array A is an integer within the range [-1,000,000..1,000,000]."
   ]
  },
  {
   "cell_type": "code",
   "execution_count": 44,
   "id": "07f96e4e",
   "metadata": {},
   "outputs": [],
   "source": [
    "def distinct(A: list)->int:\n",
    "    counter = {}\n",
    "    for val in A:\n",
    "        counter[val] = 1\n",
    "    return len(counter)"
   ]
  },
  {
   "cell_type": "code",
   "execution_count": 45,
   "id": "88b43b50",
   "metadata": {},
   "outputs": [
    {
     "data": {
      "text/plain": [
       "6"
      ]
     },
     "execution_count": 45,
     "metadata": {},
     "output_type": "execute_result"
    }
   ],
   "source": [
    "distinct([1,3,3,2,4,5,6,4])"
   ]
  },
  {
   "cell_type": "code",
   "execution_count": 1,
   "id": "150d7658",
   "metadata": {},
   "outputs": [],
   "source": [
    "def distinctme(mylist):\n",
    "    counter = {}\n",
    "    for val in mylist:\n",
    "        counter[val] = 1\n",
    "    return len(counter)"
   ]
  },
  {
   "cell_type": "code",
   "execution_count": 2,
   "id": "01a889a8",
   "metadata": {},
   "outputs": [
    {
     "data": {
      "text/plain": [
       "5"
      ]
     },
     "execution_count": 2,
     "metadata": {},
     "output_type": "execute_result"
    }
   ],
   "source": [
    "distinctme([1,2,3,2,2,5,6,6])"
   ]
  },
  {
   "cell_type": "code",
   "execution_count": 4,
   "id": "e8b9478e",
   "metadata": {},
   "outputs": [
    {
     "data": {
      "text/plain": [
       "6"
      ]
     },
     "execution_count": 4,
     "metadata": {},
     "output_type": "execute_result"
    }
   ],
   "source": [
    "len(set([1,2,3,4,5,6,6]))"
   ]
  }
 ],
 "metadata": {
  "interpreter": {
   "hash": "bc7f7a2d7b5a13e1df9879b693cf35a001b0abe7ad7fabfa2efe5a3b8907473a"
  },
  "kernelspec": {
   "display_name": "Python 3.7.10 ('Commons')",
   "language": "python",
   "name": "python3"
  },
  "language_info": {
   "codemirror_mode": {
    "name": "ipython",
    "version": 3
   },
   "file_extension": ".py",
   "mimetype": "text/x-python",
   "name": "python",
   "nbconvert_exporter": "python",
   "pygments_lexer": "ipython3",
   "version": "3.10.10"
  }
 },
 "nbformat": 4,
 "nbformat_minor": 5
}
