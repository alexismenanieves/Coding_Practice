{
 "cells": [
  {
   "cell_type": "markdown",
   "id": "antique-hammer",
   "metadata": {},
   "source": [
    "## Coding Practice"
   ]
  },
  {
   "cell_type": "markdown",
   "id": "controlled-induction",
   "metadata": {},
   "source": [
    "### 1. Maximum 69 number\n",
    "Given a positive integer num consisting only of digits 6 and 9. Return the maximum number you can get by changing at most one digit (6 becomes 9, and 9 becomes 6)."
   ]
  },
  {
   "cell_type": "code",
   "execution_count": 1,
   "id": "distinct-indiana",
   "metadata": {},
   "outputs": [
    {
     "data": {
      "text/plain": [
       "99696"
      ]
     },
     "execution_count": 1,
     "metadata": {},
     "output_type": "execute_result"
    }
   ],
   "source": [
    "def max69number(x: int)-> int:\n",
    "    \"\"\"\n",
    "    type x: int\n",
    "    rtype: int\n",
    "    \"\"\"\n",
    "    # Explanation: Just change the first 6 number to 9 and it will be the max number\n",
    "    return(int(str(x).replace('6','9',1)))\n",
    "\n",
    "max69number(96696)"
   ]
  },
  {
   "cell_type": "markdown",
   "id": "median-reaction",
   "metadata": {},
   "source": [
    "### 2. Two sum\n",
    "Given an array of integers *nums* and an integer *target*, return indices of the two numbers such that they add up to target. You may assume that each input would have exactly one solution, and you may not use the same element twice. You can return the answer in any order."
   ]
  },
  {
   "cell_type": "code",
   "execution_count": 2,
   "id": "fitted-simulation",
   "metadata": {},
   "outputs": [
    {
     "data": {
      "text/plain": [
       "(1, 2)"
      ]
     },
     "execution_count": 2,
     "metadata": {},
     "output_type": "execute_result"
    }
   ],
   "source": [
    "def twosum(nums, target:int):\n",
    "    \"\"\"\n",
    "    type nums: List[int]\n",
    "    type target: int\n",
    "    rtype: List \n",
    "    \"\"\"\n",
    "    nums_index = [(v,index) for index, v in enumerate(nums)]\n",
    "    nums_index.sort()\n",
    "    begin, end = 0, len(nums) - 1\n",
    "    while begin < end:\n",
    "        curr = nums_index[begin][0] + nums_index[end][0]\n",
    "        if curr == target:\n",
    "            return(nums_index[begin][1],nums_index[end][1])\n",
    "        elif curr < target:\n",
    "            begin += 1\n",
    "        else:\n",
    "            end -= 1\n",
    "\n",
    "twosum([2,3,4],7)\n",
    "    "
   ]
  },
  {
   "cell_type": "markdown",
   "id": "limiting-patient",
   "metadata": {},
   "source": [
    "### 3. Plus one\n",
    "Given a non-empty array of decimal digits representing a non-negative integer, increment one to the integer. The digits are stored such that the most significant digit is at the head of the list, and each element in the array contains a single digit. You may assume the integer does not contain any leading zero, except the number 0 itself."
   ]
  },
  {
   "cell_type": "code",
   "execution_count": 3,
   "id": "appointed-lighting",
   "metadata": {},
   "outputs": [
    {
     "data": {
      "text/plain": [
       "[9, 9, 0, 0]"
      ]
     },
     "execution_count": 3,
     "metadata": {},
     "output_type": "execute_result"
    }
   ],
   "source": [
    "def plus_one(nums):\n",
    "    \"\"\"\n",
    "    type nums: List[int]\n",
    "    rtype: List[int]\n",
    "    \"\"\"\n",
    "    l_nums = len(nums)\n",
    "    for index in reversed(range(l_nums)):\n",
    "        if nums[index]<9:\n",
    "            nums[index] +=1\n",
    "            return nums\n",
    "        else:\n",
    "            nums[index] = 0\n",
    "    nums.insert(0,1)\n",
    "    return nums\n",
    "\n",
    "plus_one([9,8,9,9])\n",
    "            "
   ]
  },
  {
   "cell_type": "markdown",
   "id": "random-driver",
   "metadata": {},
   "source": [
    "### 4. A linked list implementation\n",
    "Linked List is defined as a data structure wherein the elements are not stored at contiguous memory locations and are linked using pointers. Implement a singly linked list."
   ]
  },
  {
   "cell_type": "code",
   "execution_count": 6,
   "id": "elder-water",
   "metadata": {},
   "outputs": [],
   "source": [
    "class Node:\n",
    "    def __init__(self, val):\n",
    "        self.value = val\n",
    "        self.next = None\n",
    "\n",
    "class LinkedList:\n",
    "    def __init__(self):\n",
    "        self.head = None\n",
    "        \n",
    "    def push(self, new_val):\n",
    "        new_node = Node(new_val)\n",
    "        new_node.next = self.head\n",
    "        self.head = new_node"
   ]
  },
  {
   "cell_type": "code",
   "execution_count": 7,
   "id": "prostate-affairs",
   "metadata": {},
   "outputs": [],
   "source": [
    "ll = LinkedList()"
   ]
  },
  {
   "cell_type": "code",
   "execution_count": 8,
   "id": "proper-flower",
   "metadata": {},
   "outputs": [],
   "source": [
    "ll.push(3)"
   ]
  },
  {
   "cell_type": "code",
   "execution_count": 9,
   "id": "chubby-birmingham",
   "metadata": {},
   "outputs": [],
   "source": [
    "ll.push(4)"
   ]
  },
  {
   "cell_type": "code",
   "execution_count": null,
   "id": "embedded-bridge",
   "metadata": {},
   "outputs": [],
   "source": []
  }
 ],
 "metadata": {
  "kernelspec": {
   "display_name": "Python 3",
   "language": "python",
   "name": "python3"
  },
  "language_info": {
   "codemirror_mode": {
    "name": "ipython",
    "version": 3
   },
   "file_extension": ".py",
   "mimetype": "text/x-python",
   "name": "python",
   "nbconvert_exporter": "python",
   "pygments_lexer": "ipython3",
   "version": "3.6.13"
  }
 },
 "nbformat": 4,
 "nbformat_minor": 5
}
