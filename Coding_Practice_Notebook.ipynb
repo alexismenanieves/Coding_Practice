{
 "cells": [
  {
   "cell_type": "markdown",
   "id": "described-thought",
   "metadata": {},
   "source": [
    "## Coding Practice"
   ]
  },
  {
   "cell_type": "markdown",
   "id": "bright-pointer",
   "metadata": {},
   "source": [
    "### 1. Maximum 69 number\n",
    "Given a positive integer num consisting only of digits 6 and 9. Return the maximum number you can get by changing at most one digit (6 becomes 9, and 9 becomes 6)."
   ]
  },
  {
   "cell_type": "code",
   "execution_count": 47,
   "id": "palestinian-luther",
   "metadata": {},
   "outputs": [
    {
     "data": {
      "text/plain": [
       "99696"
      ]
     },
     "execution_count": 47,
     "metadata": {},
     "output_type": "execute_result"
    }
   ],
   "source": [
    "def max69number(x: int)-> int:\n",
    "    \"\"\"\n",
    "    type x: int\n",
    "    rtype: int\n",
    "    \"\"\"\n",
    "    # Explanation: Just change the first 6 number to 9 and it will be the max number\n",
    "    return(int(str(x).replace('6','9',1)))\n",
    "\n",
    "max69number(96696)"
   ]
  },
  {
   "cell_type": "markdown",
   "id": "contrary-absorption",
   "metadata": {},
   "source": [
    "### 2. Two sum\n",
    "Given an array of integers *nums* and an integer *target*, return indices of the two numbers such that they add up to target. You may assume that each input would have exactly one solution, and you may not use the same element twice. You can return the answer in any order."
   ]
  },
  {
   "cell_type": "code",
   "execution_count": 48,
   "id": "fresh-webster",
   "metadata": {},
   "outputs": [
    {
     "data": {
      "text/plain": [
       "(1, 2)"
      ]
     },
     "execution_count": 48,
     "metadata": {},
     "output_type": "execute_result"
    }
   ],
   "source": [
    "def twosum(nums, target:int):\n",
    "    \"\"\"\n",
    "    type nums: List[int]\n",
    "    type target: int\n",
    "    rtype: List \n",
    "    \"\"\"\n",
    "    nums_index = [(v,index) for index, v in enumerate(nums)]\n",
    "    nums_index.sort()\n",
    "    begin, end = 0, len(nums) - 1\n",
    "    while begin < end:\n",
    "        curr = nums_index[begin][0] + nums_index[end][0]\n",
    "        if curr == target:\n",
    "            return(nums_index[begin][1],nums_index[end][1])\n",
    "        elif curr < target:\n",
    "            begin += 1\n",
    "        else:\n",
    "            end -= 1\n",
    "\n",
    "twosum([2,3,4],7)\n",
    "    "
   ]
  },
  {
   "cell_type": "markdown",
   "id": "durable-valentine",
   "metadata": {},
   "source": [
    "### 3. Plus one\n",
    "Given a non-empty array of decimal digits representing a non-negative integer, increment one to the integer. The digits are stored such that the most significant digit is at the head of the list, and each element in the array contains a single digit. You may assume the integer does not contain any leading zero, except the number 0 itself."
   ]
  },
  {
   "cell_type": "code",
   "execution_count": 49,
   "id": "responsible-dakota",
   "metadata": {},
   "outputs": [
    {
     "data": {
      "text/plain": [
       "[9, 8, 5, 0]"
      ]
     },
     "execution_count": 49,
     "metadata": {},
     "output_type": "execute_result"
    }
   ],
   "source": [
    "def plus_one(nums):\n",
    "    \"\"\"\n",
    "    type nums: List[int]\n",
    "    rtype: List[int]\n",
    "    \"\"\"\n",
    "    l_nums = len(nums)\n",
    "    for index in reversed(range(l_nums)):\n",
    "        if nums[index]<9:\n",
    "            nums[index] +=1\n",
    "            return nums\n",
    "        else:\n",
    "            nums[index] = 0\n",
    "    nums.insert(0,1)\n",
    "    return nums\n",
    "\n",
    "plus_one([9,8,4,9])\n",
    "            "
   ]
  },
  {
   "cell_type": "markdown",
   "id": "naughty-theme",
   "metadata": {},
   "source": [
    "### 4. A linked list implementation\n",
    "Linked list is defined as a data structure wherein the elements are not stored at contiguous memory locations and are linked using pointers. With this code we can create a singly linked list, with push, print and length methods."
   ]
  },
  {
   "cell_type": "code",
   "execution_count": 50,
   "id": "capable-johnson",
   "metadata": {},
   "outputs": [],
   "source": [
    "class Node:\n",
    "    def __init__(self, val):\n",
    "        self.value = val\n",
    "        self.next = None\n",
    "\n",
    "class LinkedList:\n",
    "    def __init__(self):\n",
    "        self.head = None\n",
    "    \n",
    "    def push(self, new_val):\n",
    "        new_node = Node(new_val)\n",
    "        new_node.next = self.head\n",
    "        self.head = new_node\n",
    "    \n",
    "    def print_elements(self):\n",
    "        if self.head is None:\n",
    "            return \"\"\n",
    "        node = self.head\n",
    "        while node:\n",
    "            print(node.value, end =' ')\n",
    "            node = node.next\n",
    "    \n",
    "    def length(self):\n",
    "        node = self.head\n",
    "        length = 0\n",
    "        while node:\n",
    "            length += 1\n",
    "            node = node.next\n",
    "        print(length)"
   ]
  },
  {
   "cell_type": "code",
   "execution_count": 51,
   "id": "referenced-daughter",
   "metadata": {},
   "outputs": [
    {
     "name": "stdout",
     "output_type": "stream",
     "text": [
      "9 7 6 "
     ]
    }
   ],
   "source": [
    "ll = LinkedList()\n",
    "ll.push(6)\n",
    "ll.push(7)\n",
    "ll.push(9)\n",
    "ll.print_elements()"
   ]
  },
  {
   "cell_type": "code",
   "execution_count": 52,
   "id": "gorgeous-adoption",
   "metadata": {},
   "outputs": [
    {
     "name": "stdout",
     "output_type": "stream",
     "text": [
      "3\n"
     ]
    }
   ],
   "source": [
    "ll.length()"
   ]
  },
  {
   "cell_type": "markdown",
   "id": "decimal-magnet",
   "metadata": {},
   "source": [
    "### 5. Check if random variable are independent\n",
    "In this question, we are given a table called distr_table with a joint probability distribution of two random variables X and Y\n",
    "\n",
    "|X|Y|pr  |\n",
    "|-|-|----|\n",
    "|0|1|0.30|\n",
    "|0|2|0.25|\n",
    "|1|1|0.15|\n",
    "|1|2|0.30|\n",
    "\n",
    "For example, $ P(X=0 \\wedge Y=1) = 0.3 $ and $ P(Y=1) = 0.3 + 0.15 = 0.45 $\n",
    "You can see that probabilities in the third column add up to 1.\n",
    "\n",
    "Write a function *check_independence* that for a given distribution table returns a named list with  three values: \n",
    "- First element (named are_independent): Is a boolean which states if X and Y are independent (true) or not (false). Two random variables are independent if for each possible value x for X and y for Y: $ P(X=x \\wedge Y=y) = P(X=x) * P(Y=y) $ \n",
    "- Second element (named cov): Is a covariance between X and Y (i is an indicator of i-th of n possible pairs $ Cov(X,Y) = \\sum_{i=1}^{n} p_i(x_i - \\mu_x)(y_i - \\mu_y) $ where $ \\mu_x = \\sum_{j=1}^{m} p_jx_j $ and $ \\mu_y = \\sum_{k=1}^{l} p_ky_k $ \n",
    "- Third element (named corr): Is a correlation coefficient between X and Y, such as $ corr(X,Y) = \\frac{Cov(X,Y)}{\\sigma_x \\sigma_y} $ where $ \\sigma_x = \\sqrt{\\sum_{j=1}^{m}p_j(x_j-\\mu_x)^2}$ and $ \\sigma_y = \\sqrt{\\sum_{k=1}^{l}p_k(y_k-\\mu_y)^2} $\n",
    "\n",
    "In above equations m and l are numbers of unique values of X and Y respectively. Note that you can't use built-in equations for covariance and correlations since we use distributions, not realizations to describe variables X and Y. "
   ]
  },
  {
   "cell_type": "code",
   "execution_count": 53,
   "id": "seventh-cardiff",
   "metadata": {},
   "outputs": [
    {
     "ename": "ModuleNotFoundError",
     "evalue": "No module named 'pandas'",
     "output_type": "error",
     "traceback": [
      "\u001b[0;31m---------------------------------------------------------------------------\u001b[0m",
      "\u001b[0;31mModuleNotFoundError\u001b[0m                       Traceback (most recent call last)",
      "Cell \u001b[0;32mIn[53], line 1\u001b[0m\n\u001b[0;32m----> 1\u001b[0m \u001b[38;5;28;01mimport\u001b[39;00m \u001b[38;5;21;01mpandas\u001b[39;00m \u001b[38;5;28;01mas\u001b[39;00m \u001b[38;5;21;01mpd\u001b[39;00m\n\u001b[1;32m      2\u001b[0m \u001b[38;5;28;01mfrom\u001b[39;00m \u001b[38;5;21;01mmath\u001b[39;00m \u001b[38;5;28;01mimport\u001b[39;00m sqrt\n\u001b[1;32m      4\u001b[0m distr_table \u001b[38;5;241m=\u001b[39m pd\u001b[38;5;241m.\u001b[39mDataFrame({\n\u001b[1;32m      5\u001b[0m     \u001b[38;5;124m'\u001b[39m\u001b[38;5;124mX\u001b[39m\u001b[38;5;124m'\u001b[39m: [\u001b[38;5;241m0\u001b[39m,\u001b[38;5;241m0\u001b[39m,\u001b[38;5;241m1\u001b[39m,\u001b[38;5;241m1\u001b[39m],\n\u001b[1;32m      6\u001b[0m     \u001b[38;5;124m'\u001b[39m\u001b[38;5;124mY\u001b[39m\u001b[38;5;124m'\u001b[39m: [\u001b[38;5;241m1\u001b[39m,\u001b[38;5;241m2\u001b[39m,\u001b[38;5;241m1\u001b[39m,\u001b[38;5;241m2\u001b[39m],\n\u001b[1;32m      7\u001b[0m     \u001b[38;5;124m'\u001b[39m\u001b[38;5;124mpr\u001b[39m\u001b[38;5;124m'\u001b[39m: [\u001b[38;5;241m0.3\u001b[39m,\u001b[38;5;241m0.25\u001b[39m,\u001b[38;5;241m0.15\u001b[39m,\u001b[38;5;241m0.3\u001b[39m]\n\u001b[1;32m      8\u001b[0m })\n",
      "\u001b[0;31mModuleNotFoundError\u001b[0m: No module named 'pandas'"
     ]
    }
   ],
   "source": [
    "import pandas as pd\n",
    "from math import sqrt\n",
    "\n",
    "distr_table = pd.DataFrame({\n",
    "    'X': [0,0,1,1],\n",
    "    'Y': [1,2,1,2],\n",
    "    'pr': [0.3,0.25,0.15,0.3]\n",
    "})\n",
    "\n",
    "def mass(values, probs):\n",
    "    \"\"\"\n",
    "    Dict of value with marginal probability\n",
    "    \"\"\"\n",
    "    var_pr = {}\n",
    "    for i, pr in enumerate(probs):\n",
    "        var_pr[values[i]] = var_pr.get(values[i],.0) + pr\n",
    "    return var_pr\n",
    "\n",
    "def mean(mass_dict):\n",
    "    mu = .0\n",
    "    for val, pr in mass_dict.items():\n",
    "        mu += pr * val\n",
    "    return mu\n",
    "\n",
    "def std_dev(mass_dict, mu):\n",
    "    sigma = .0\n",
    "    for val, pr in mass_dict.items():\n",
    "        sigma += pr * pow(val-mu,2)\n",
    "    return sigma\n",
    "\n",
    "class CheckIndependence:\n",
    "    def __init__(self):\n",
    "        self.version = 1\n",
    "    \n",
    "    def check_independence(self, distr_table):\n",
    "        x_list = distr_table['X'].to_list()\n",
    "        y_list = distr_table['Y'].to_list()\n",
    "        pr_list = distr_table['pr'].to_list() \n",
    "        \n",
    "        x_mass = mass(x_list, pr_list) \n",
    "        y_mass = mass(y_list, pr_list) \n",
    "        \n",
    "        x_mean = mean(x_mass) \n",
    "        y_mean = mean(y_mass) \n",
    "        \n",
    "        independent = True \n",
    "        cov = .0 \n",
    "        \n",
    "        for i, pr in enumerate(pr_list): \n",
    "            x, y = x_list[i], y_list[i]\n",
    "            # Independence\n",
    "            if x != y:\n",
    "                if pr != x_mass[x] * y_mass[y]:\n",
    "                    independent = False\n",
    "            \n",
    "            cov += pr * (x - x_mean) * (y - y_mean)\n",
    "        \n",
    "        corr = cov / (std_dev(x_mass, x_mean) * (std_dev(y_mass, y_mean)))\n",
    "        \n",
    "        return {'are_independent': independent, 'cov': cov, 'corr': corr}\n",
    "\n"
   ]
  },
  {
   "cell_type": "code",
   "execution_count": null,
   "id": "grand-stability",
   "metadata": {},
   "outputs": [
    {
     "data": {
      "text/plain": [
       "{'are_independent': False, 'cov': 0.0525, 'corr': 0.8570554025099479}"
      ]
     },
     "execution_count": 8,
     "metadata": {},
     "output_type": "execute_result"
    }
   ],
   "source": [
    "test = CheckIndependence()\n",
    "test.check_independence(distr_table)"
   ]
  },
  {
   "cell_type": "markdown",
   "id": "sized-advocate",
   "metadata": {},
   "source": [
    "### 6. Binary gap\n",
    "A binary gap within a positive integer N is any maximal sequence of consecutive zeros that is surrounded by ones at both ends in the binary representation of N. For example, number 529 has a binary representation of 1000010001 and contains a binary gap of lenght 4"
   ]
  },
  {
   "cell_type": "code",
   "execution_count": null,
   "id": "forbidden-phone",
   "metadata": {},
   "outputs": [
    {
     "data": {
      "text/plain": [
       "4"
      ]
     },
     "execution_count": 9,
     "metadata": {},
     "output_type": "execute_result"
    }
   ],
   "source": [
    "def binary_gap(num:int):\n",
    "    \"\"\"\n",
    "    type num: int\n",
    "    rtype: int\n",
    "    \"\"\"\n",
    "    return len(max(format(num,'b').strip('0').split('1')))\n",
    "\n",
    "binary_gap(529)"
   ]
  },
  {
   "cell_type": "markdown",
   "id": "mexican-wisdom",
   "metadata": {},
   "source": [
    "### 7. Cyclic rotation\n",
    "An array A consisting of N integers is given. Rotation of the array means that each element is shifted right by one index, and the last element of the array is moved to the first place. For example, the rotation of array A=[3,8,9,7,6] is [6,3,8,9,7] (elements are shifted right by one index and 6 is moved to the first place). The goal is to rotate A K times; that is, each element of A will be shifted to the right K times."
   ]
  },
  {
   "cell_type": "code",
   "execution_count": null,
   "id": "valued-printing",
   "metadata": {},
   "outputs": [
    {
     "data": {
      "text/plain": [
       "[3, 4, 1, 2]"
      ]
     },
     "execution_count": 13,
     "metadata": {},
     "output_type": "execute_result"
    }
   ],
   "source": [
    "def cyclic_rotation(num:list, k:int):\n",
    "    \"\"\"\n",
    "    type num: list[int]\n",
    "    type k: int\n",
    "    rtype: list[int]\n",
    "    \"\"\"\n",
    "    if not len(num):\n",
    "        return num\n",
    "    k_pure = (len(num)+k) % len(num)\n",
    "    if k_pure == 0:\n",
    "        return num\n",
    "    else:\n",
    "        head = num[len(num) - k_pure:]\n",
    "        tail = num[:-k_pure]\n",
    "        return head+tail\n",
    "\n",
    "cyclic_rotation([1,2,3,4],2)"
   ]
  },
  {
   "cell_type": "markdown",
   "id": "extraordinary-edgar",
   "metadata": {},
   "source": [
    "### 8. Reverse integer\n",
    "Given a signed 32-bit integer x, return x with its digits reversed. If reversing x causes the value to go outside the signed 32-bit integer range $ [-2^{31}, 2^{31}- 1] $, then return 0."
   ]
  },
  {
   "cell_type": "code",
   "execution_count": null,
   "id": "biological-remedy",
   "metadata": {},
   "outputs": [
    {
     "data": {
      "text/plain": [
       "321"
      ]
     },
     "execution_count": 14,
     "metadata": {},
     "output_type": "execute_result"
    }
   ],
   "source": [
    "def reverse_integer(num:int):\n",
    "    \"\"\"\n",
    "    type num: int\n",
    "    rtype: int\n",
    "    \"\"\"\n",
    "    res, isPos = 0,1\n",
    "    if num<0:\n",
    "        isPos = -1\n",
    "        num *= -1\n",
    "    while num !=0:\n",
    "        res = res*10 + num%10\n",
    "        if res > 2147483647:\n",
    "            return 0\n",
    "        num //= 10\n",
    "    return res * isPos\n",
    "\n",
    "reverse_integer(123)"
   ]
  },
  {
   "cell_type": "markdown",
   "id": "needed-youth",
   "metadata": {},
   "source": [
    "### 9. Letter filter\n",
    "For a given definition of a class LetterFilter, complete its methods *filter_vowels* and *filter_consonants*. The class takes a string in the constructor and store it to its *s* attribute. The method *filter_vowels* must return a new string with all vowels removed from it. Similarly, the method *filter_consonants* must return a nuew string with all consonants removed from it."
   ]
  },
  {
   "cell_type": "code",
   "execution_count": null,
   "id": "dominant-columbia",
   "metadata": {},
   "outputs": [],
   "source": [
    "class LetterFilter:\n",
    "    \n",
    "    def __init__(self,s):\n",
    "        self.s = s\n",
    "    \n",
    "    def filter_vowels(self):\n",
    "        return \"\".join([chr for chr in self.s if chr not in \"aeiou\"])\n",
    "    \n",
    "    def filter_consonants(self):\n",
    "        return \"\".join([chr for chr in self.s if chr in \"aeiou\"])\n",
    "\n",
    "lf = LetterFilter(\"Massachusetts\")"
   ]
  },
  {
   "cell_type": "code",
   "execution_count": null,
   "id": "signed-puzzle",
   "metadata": {},
   "outputs": [
    {
     "data": {
      "text/plain": [
       "'Msschstts'"
      ]
     },
     "execution_count": 16,
     "metadata": {},
     "output_type": "execute_result"
    }
   ],
   "source": [
    "lf.filter_vowels()"
   ]
  },
  {
   "cell_type": "code",
   "execution_count": null,
   "id": "alive-cyprus",
   "metadata": {},
   "outputs": [
    {
     "data": {
      "text/plain": [
       "'aaue'"
      ]
     },
     "execution_count": 17,
     "metadata": {},
     "output_type": "execute_result"
    }
   ],
   "source": [
    "lf.filter_consonants()"
   ]
  },
  {
   "cell_type": "markdown",
   "id": "asian-dynamics",
   "metadata": {},
   "source": [
    "### 10. K-subarrays\n",
    "It's a subarray, i.e. made of contiguous elements in the array where the sum of the subarray elements *s* is evenly divisible by *k* i.e. sum mod k = 0."
   ]
  },
  {
   "cell_type": "code",
   "execution_count": null,
   "id": "elder-basketball",
   "metadata": {},
   "outputs": [
    {
     "data": {
      "text/plain": [
       "2"
      ]
     },
     "execution_count": 1,
     "metadata": {},
     "output_type": "execute_result"
    }
   ],
   "source": [
    "def kSub(k:int, nums:list):\n",
    "    \"\"\"\n",
    "    type k: int\n",
    "    type nums: list\n",
    "    rtype: int\n",
    "    \"\"\"\n",
    "    l_nums = len(nums)\n",
    "    p = 2\n",
    "    counter = 0\n",
    "    for i in range(l_nums):\n",
    "        for j in range(p,l_nums+1): \n",
    "            if(sum(nums[i:j])%k == 0):\n",
    "                counter += 1\n",
    "        p +=1\n",
    "    return counter\n",
    "\n",
    "kSub(2,[1,2,3,4])        "
   ]
  },
  {
   "cell_type": "code",
   "execution_count": null,
   "id": "solved-forge",
   "metadata": {},
   "outputs": [
    {
     "name": "stdout",
     "output_type": "stream",
     "text": [
      "[1, 2]\n",
      "[1, 2, 3]\n",
      "[1, 2, 3, 4]\n",
      "[2, 3]\n",
      "[2, 3, 4]\n",
      "[3, 4]\n"
     ]
    }
   ],
   "source": [
    "def nSub(nums:list):\n",
    "    \"\"\"\n",
    "    type nums: list\n",
    "    \"\"\"\n",
    "    l_nums = len(nums)\n",
    "    p = 2\n",
    "    for i in range(l_nums):\n",
    "        for j in range(p,l_nums+1): \n",
    "            print(nums[i:j])\n",
    "        p += 1\n",
    "\n",
    "nSub([1,2,3,4])"
   ]
  },
  {
   "cell_type": "code",
   "execution_count": null,
   "id": "weighted-joshua",
   "metadata": {},
   "outputs": [
    {
     "name": "stdout",
     "output_type": "stream",
     "text": [
      "[3, 4]\n",
      "[3, 4, 5]\n",
      "[3, 4, 5, 6]\n",
      "[4, 5]\n",
      "[4, 5, 6]\n",
      "[5, 6]\n"
     ]
    }
   ],
   "source": [
    "def pSubs(nums:list):\n",
    "    l_nums = len(nums)\n",
    "    p = 2\n",
    "    for i in range(l_nums):\n",
    "        for j in range(p,l_nums+1):\n",
    "            print(nums[i:j])\n",
    "        p += 1\n",
    "\n",
    "pSubs([3,4,5,6])"
   ]
  },
  {
   "cell_type": "markdown",
   "id": "commercial-constant",
   "metadata": {},
   "source": [
    "### 11. Integer to Roman\n",
    "Roman numerals are represented by seven different symbols: I, V, X, L, C, D and M. For example, 2 is written as II in Roman numeral, just two one's added together. 12 is written as XII, which is simply X + II. The number 27 is written as XXVII, which is XX + V + II.\n",
    "\n",
    "Roman numerals are usually written largest to smallest from left to right. However, the numeral for four is not IIII. Instead, the number four is written as IV. Because the one is before the five we subtract it making four. The same principle applies to the number nine, which is written as IX. There are six instances where subtraction is used:\n",
    "\n",
    "I can be placed before V (5) and X (10) to make 4 and 9. \n",
    "X can be placed before L (50) and C (100) to make 40 and 90. \n",
    "C can be placed before D (500) and M (1000) to make 400 and 900.\n",
    "Given an integer, convert it to a roman numeral."
   ]
  },
  {
   "cell_type": "code",
   "execution_count": null,
   "id": "eight-southeast",
   "metadata": {},
   "outputs": [
    {
     "data": {
      "text/plain": [
       "'CXXIII'"
      ]
     },
     "execution_count": 21,
     "metadata": {},
     "output_type": "execute_result"
    }
   ],
   "source": [
    "def intToRoman(num):\n",
    "        num_map = [(1000,'M'),(900,'CM'),(500,'D'),(400,'CD'),\n",
    "                  (100,'C'),(90,'XC'),(50,'L'),(40,'XL'),\n",
    "                  (10,'X'),(9,'IX'),(5,'V'),(4,'IV'),(1,'I')]\n",
    "        roman = ''\n",
    "        while(num>0):\n",
    "            for i,r in num_map:\n",
    "                while(num >= i):\n",
    "                    roman += r\n",
    "                    num -= i\n",
    "        return roman\n",
    "\n",
    "intToRoman(123)"
   ]
  },
  {
   "cell_type": "markdown",
   "id": "eb21193b-f631-4efa-8722-4ddcd78ff019",
   "metadata": {},
   "source": [
    "### 12. Longest substring\n",
    "Given a string s, find the length of the longest substring without repeating characters. For example:\n",
    "- \"abcabcbb\" gives 3 (sequence abc)\n",
    "- \"bbbbb\" gives 1 (only b without repeating)\n",
    "- \"pwwkew\" gives 3 "
   ]
  },
  {
   "cell_type": "code",
   "execution_count": null,
   "id": "47679047-bf1f-449e-8eea-ea32f03d475d",
   "metadata": {},
   "outputs": [],
   "source": [
    "def longest_substring(s: str) -> int:\n",
    "    chain = ''\n",
    "    count = 0\n",
    "    for i in s:\n",
    "        if i not in chain:\n",
    "            chain += i\n",
    "            print(f'i: {i}, chain:{chain}')\n",
    "        else:\n",
    "            chain = chain[chain.index(i)+1:] + i\n",
    "            print(f'i: {i}, chain:{chain}')\n",
    "        count = max(count, len(chain))\n",
    "    return count"
   ]
  },
  {
   "cell_type": "markdown",
   "id": "loving-neighborhood",
   "metadata": {},
   "source": [
    "### 12. Nth-digit\n",
    "Given an integer n, return the nth digit of the infinite integer sequence [1, 2, 3, 4, 5, 6, 7, 8, 9, 10, ...]. Example n=11, then the 11th digit of the sequence 1, 2, 3, 4, 5, 6, 7, 8, 9, 10, 11, ... is a 0, which is part of the number 10."
   ]
  },
  {
   "cell_type": "code",
   "execution_count": null,
   "id": "06f9822b",
   "metadata": {},
   "outputs": [],
   "source": [
    "def nth_digit(x: int)->int:\n",
    "    my_list = []\n",
    "    my_split = []\n",
    "    for i in range(x):\n",
    "        if len(str(i+1))<2:\n",
    "            my_list.append(i+1)\n",
    "        else:\n",
    "            my_split = list(map(int,str(i+1)))\n",
    "            my_list.extend(my_split)\n",
    "    return my_list[x-1]"
   ]
  },
  {
   "cell_type": "code",
   "execution_count": null,
   "id": "b6f24f17",
   "metadata": {},
   "outputs": [
    {
     "data": {
      "text/plain": [
       "2"
      ]
     },
     "execution_count": 32,
     "metadata": {},
     "output_type": "execute_result"
    }
   ],
   "source": [
    "nth_digit(15)"
   ]
  },
  {
   "cell_type": "markdown",
   "id": "c662209f",
   "metadata": {},
   "source": [
    "### 13. Distinct values in a list\n",
    "Compute number of distinct values in an array. Given a zero-indexed \n",
    "array A consisting of N integers, return the number of distinct values \n",
    "in array A.\n",
    "\n",
    "Assume that:\n",
    "- N is an integer within the range [0..100,000];\n",
    "- Each element of array A is an integer within the range [-1,000,000..1,000,000]."
   ]
  },
  {
   "cell_type": "code",
   "execution_count": null,
   "id": "07f96e4e",
   "metadata": {},
   "outputs": [],
   "source": [
    "def distinct(A: list)->int:\n",
    "    counter = {}\n",
    "    for val in A:\n",
    "        counter[val] = 1\n",
    "    return len(counter)"
   ]
  },
  {
   "cell_type": "code",
   "execution_count": null,
   "id": "88b43b50",
   "metadata": {},
   "outputs": [
    {
     "data": {
      "text/plain": [
       "6"
      ]
     },
     "execution_count": 45,
     "metadata": {},
     "output_type": "execute_result"
    }
   ],
   "source": [
    "distinct([1,3,3,2,4,5,6,4])"
   ]
  },
  {
   "cell_type": "markdown",
   "id": "524a9fd0",
   "metadata": {},
   "source": [
    "### 14. Jewels and Stones\n",
    "You're given strings named \"jewels\" representing the types of stones that are jewels, and \"stones\" representing the stones you have. Each character in stones is a type of stone you have. You want to know how many of the stones you have are also jewels.\n",
    "\n",
    "Letters are case sensitive, so \"a\" is considered a different type of stone from \"A\".\n",
    "Example: Jewels =  'aA', stones = 'AbcDFaB'\n",
    "Result: 2 "
   ]
  },
  {
   "cell_type": "code",
   "execution_count": null,
   "id": "63b74da2",
   "metadata": {},
   "outputs": [],
   "source": [
    "def jewelstones(jewels, stones):\n",
    "    counter = []\n",
    "    for s in stones:\n",
    "        if s in jewels:\n",
    "            counter.append(s)\n",
    "    return len(counter)\n"
   ]
  },
  {
   "cell_type": "code",
   "execution_count": null,
   "id": "bfb53bfd",
   "metadata": {},
   "outputs": [
    {
     "data": {
      "text/plain": [
       "3"
      ]
     },
     "execution_count": 31,
     "metadata": {},
     "output_type": "execute_result"
    }
   ],
   "source": [
    "jewelstones('aA','AbcDFaBa')"
   ]
  },
  {
   "cell_type": "markdown",
   "id": "177024ce",
   "metadata": {},
   "source": [
    "### 15. Max depth of binary tree\n",
    "Given the root of a binary tree, return its maximum depth. A binary tree's maximum depth is the number of nodes along the longest path from the root node down to the farthest leaf node.\n",
    "\n",
    "Example: [3,9,20,null,null,15,7], returns 3\n"
   ]
  },
  {
   "cell_type": "code",
   "execution_count": null,
   "id": "87d4a839",
   "metadata": {},
   "outputs": [],
   "source": [
    "## Implement binary tree\n",
    "# Fistly you create an object Tree, with a root node, and two leafs\n",
    "class TreeNode:\n",
    "    def __init__(self, val, left=None, right=None):\n",
    "        self.val = val\n",
    "        self.left = left\n",
    "        self.right = right\n",
    "# Then you create a method to insert a new node in the tree\n",
    "def insert_node(temp, val):\n",
    "    queue = []\n",
    "    queue.append(temp)\n",
    "    while (len(queue)):\n",
    "        temp = queue[0]\n",
    "        queue.pop(0)\n",
    "        if(not temp.left):\n",
    "            if val is not None:\n",
    "                temp.left = TreeNode(val)\n",
    "            else:\n",
    "                temp.left = TreeNode(0)\n",
    "            break\n",
    "        else:\n",
    "            queue.append(temp.left)\n",
    "        if(not temp.right):\n",
    "            if val is not None:\n",
    "                temp.right = TreeNode(val)\n",
    "            else:\n",
    "                temp.right = TreeNode(0)\n",
    "            break\n",
    "        else:\n",
    "            queue.append(temp.right)\n",
    "# Finally you create a method to create a tree from a list of elements\n",
    "def make_tree(elements):\n",
    "    Tree = TreeNode(elements[0])\n",
    "    for element in elements[1:]:\n",
    "        insert_node(Tree, element)\n",
    "    return Tree"
   ]
  },
  {
   "cell_type": "code",
   "execution_count": null,
   "id": "b8175b46",
   "metadata": {},
   "outputs": [],
   "source": [
    "class Solution:\n",
    "    def maxDepth(self, root):\n",
    "        if root is None:\n",
    "            return 0\n",
    "        ld = self.maxDepth(root.left)\n",
    "        rd = self.maxDepth(root.right)\n",
    "        return max(ld, rd) + 1\n",
    "    "
   ]
  },
  {
   "cell_type": "code",
   "execution_count": null,
   "id": "fd50b261",
   "metadata": {},
   "outputs": [],
   "source": [
    "# class Solution:\n",
    "#     def maxDepth(self,root):\n",
    "#         return self.solve(root)\n",
    "#     def solve(self, root, depth=0):\n",
    "#         if root is None:\n",
    "#             return depth\n",
    "#         else:\n",
    "#             return max(self.solve(root.left, depth+1),self.solve(root.right, depth+1))\n"
   ]
  },
  {
   "cell_type": "code",
   "execution_count": null,
   "id": "9e3890e7",
   "metadata": {},
   "outputs": [
    {
     "name": "stdout",
     "output_type": "stream",
     "text": [
      "4\n"
     ]
    }
   ],
   "source": [
    "my_tree = make_tree([1,2,3,4,5,None,6,7,None,None,None,None,None,None,None])\n",
    "my_solution = Solution()\n",
    "print(my_solution.maxDepth(my_tree))"
   ]
  },
  {
   "cell_type": "markdown",
   "id": "1ce2da41",
   "metadata": {},
   "source": [
    "### 16. Flipping a binary image\n",
    "Given an $n x n$ binary matrix image, flip the image horizontally, then invert it, and return the resulting image.\n",
    "To flip an image horizontally means that each row of the image is reversed.\n",
    "\n",
    "For example, flipping [1,1,0] horizontally results in [0,1,1].\n",
    "To invert an image means that each 0 is replaced by 1, and each 1 is replaced by 0.\n",
    "\n",
    "For example, inverting [0,1,1] results in [1,0,0]."
   ]
  },
  {
   "cell_type": "code",
   "execution_count": null,
   "id": "55602f70",
   "metadata": {},
   "outputs": [],
   "source": [
    "def flip_binary_image(myimage: list[list[int]])-> list[list[int]]:\n",
    "    res = []\n",
    "    for i in myimage:\n",
    "        res.append([abs(x-1) for x in i[::-1]])\n",
    "    return res"
   ]
  },
  {
   "cell_type": "code",
   "execution_count": null,
   "id": "883618df",
   "metadata": {},
   "outputs": [
    {
     "data": {
      "text/plain": [
       "[[1, 0, 1], [0, 0, 0], [1, 0, 1]]"
      ]
     },
     "execution_count": 32,
     "metadata": {},
     "output_type": "execute_result"
    }
   ],
   "source": [
    "myimage =  [[0,1,0],[1,1,1],[0,1,0]]\n",
    "flip_binary_image(myimage=myimage)"
   ]
  },
  {
   "cell_type": "code",
   "execution_count": null,
   "id": "6ca64f32",
   "metadata": {},
   "outputs": [],
   "source": [
    "myimage[0][0] = 1"
   ]
  },
  {
   "cell_type": "code",
   "execution_count": null,
   "id": "62297ff9",
   "metadata": {},
   "outputs": [
    {
     "data": {
      "text/plain": [
       "[[1, 1, 0], [1, 1, 1], [0, 1, 0]]"
      ]
     },
     "execution_count": 34,
     "metadata": {},
     "output_type": "execute_result"
    }
   ],
   "source": [
    "myimage"
   ]
  },
  {
   "cell_type": "code",
   "execution_count": null,
   "id": "a6953868",
   "metadata": {},
   "outputs": [
    {
     "data": {
      "text/plain": [
       "[[1, 0, 0], [0, 0, 0], [1, 0, 1]]"
      ]
     },
     "execution_count": 35,
     "metadata": {},
     "output_type": "execute_result"
    }
   ],
   "source": [
    "flip_binary_image(myimage)"
   ]
  },
  {
   "cell_type": "markdown",
   "id": "84045752",
   "metadata": {},
   "source": [
    "### 17. Merge two already sorted lists\n",
    "You are given the heads of two sorted linked lists: list1 and list2. Merge \n",
    "the two lists into one sorted list. The list should be made by splicing \n",
    "together the nodes of the first two lists. Return the head of the merged \n",
    "linked list.  \n",
    "\n",
    "Example 1. Input: list1 = [1,2,4], list2 = [1,3,4]\n",
    "Output: [1,1,2,3,4,4]  \n",
    "Example 2. Input: list1 = [], list2 = [0]\n",
    "Output: [0]"
   ]
  },
  {
   "cell_type": "code",
   "execution_count": null,
   "id": "4ec14beb",
   "metadata": {},
   "outputs": [],
   "source": [
    "# Definition for singly-linked list.\n",
    "class ListNode:\n",
    "    def __init__(self, val=0, next=None):\n",
    "        self.val = val\n",
    "        self.next = next\n",
    "\n",
    "class Solution:\n",
    "    def mergeTwoLists(self, list1, list2):\n",
    "        cur = dummy = ListNode()\n",
    "        while list1 and list2:\n",
    "            if list1.val < list2.val:\n",
    "                cur.next = list1\n",
    "                list1 = list1.next\n",
    "                cur = list1\n",
    "            else:\n",
    "                cur.next = list2\n",
    "                list2 = list2.next\n",
    "                cur = list2\n",
    "        \n",
    "        if list1 or list2:\n",
    "            cur.next = list1 if list1 else list2\n",
    "\n",
    "        return dummy.next"
   ]
  },
  {
   "cell_type": "code",
   "execution_count": null,
   "id": "54d663de",
   "metadata": {},
   "outputs": [],
   "source": [
    "## Implement a linked list\n",
    "class ListNode():\n",
    "    def __init__(self, value=0, next=None):\n",
    "        self.value = value\n",
    "        self.next = next\n",
    "\n",
    "class LinkedList():\n",
    "    def __init__(self):\n",
    "        self.head = None\n",
    "\n",
    "    def add(self,value):\n",
    "        new_node = ListNode(value)\n",
    "        if self.head is None:\n",
    "            self.head = new_node\n",
    "        else:\n",
    "            new_node.next = self.head\n",
    "            self.head = new_node\n",
    "\n"
   ]
  },
  {
   "cell_type": "code",
   "execution_count": null,
   "id": "b4b07c62",
   "metadata": {},
   "outputs": [
    {
     "data": {
      "text/plain": [
       "<__main__.LinkedList at 0x105f7fd30>"
      ]
     },
     "execution_count": 59,
     "metadata": {},
     "output_type": "execute_result"
    }
   ],
   "source": [
    "FirstNode = ListNode(value=7)\n",
    "SecondNode = ListNode(value=4)\n",
    "ThirdNode = ListNode(value=3)\n",
    "mylist = LinkedList()\n",
    "mylist.head = FirstNode\n",
    "mylist.add(SecondNode)\n",
    "mylist.add(ThirdNode)\n",
    "mylist"
   ]
  },
  {
   "cell_type": "code",
   "execution_count": null,
   "id": "2d2a0003",
   "metadata": {},
   "outputs": [],
   "source": [
    "class NodoLista():\n",
    "    def __init__(self, value=0,next=None):\n",
    "        self.value = value\n",
    "        self.next = next\n",
    "\n",
    "class ListaEnlazada():\n",
    "    def __init__(self):\n",
    "        self.head = None\n",
    "\n",
    "    def insertar_inicio(self, value):\n",
    "        nuevo_nodo = NodoLista(value)\n",
    "        if self.head is None:\n",
    "            self.head = nuevo_nodo\n",
    "            return\n",
    "        else:\n",
    "            nuevo_nodo.next = self.head\n",
    "            self.head = nuevo_nodo\n",
    "\n",
    "    def insertar_final(self, value):\n",
    "        nuevo_nodo = NodoLista(value)\n",
    "        if self.head is None:\n",
    "            self.head = nuevo_nodo\n",
    "            return\n",
    "        nodo_actual = self.head\n",
    "        while nodo_actual.next is not None:\n",
    "            nodo_actual = nodo_actual.next\n",
    "        nodo_actual.next = nuevo_nodo\n"
   ]
  },
  {
   "cell_type": "code",
   "execution_count": null,
   "id": "390532fe",
   "metadata": {},
   "outputs": [],
   "source": [
    "milista = ListaEnlazada()\n",
    "milista.insertar_inicio(18)\n",
    "milista.insertar_inicio(7)"
   ]
  },
  {
   "cell_type": "markdown",
   "id": "c7bcc0da",
   "metadata": {},
   "source": [
    "### 18. Duplicate Zeros\n",
    "Given a fixed-length integer array arr, duplicate each occurrence of zero, shifting the remaining elements to the right.\n",
    "\n",
    "Note that elements beyond the length of the original array are not written. Do the above modifications to the input array in place and do not return anything.\n",
    "\n",
    "Example 1. Input: arr = [1,0,2,3,0,4,5,0], Output = [1,0,0,2,3,0,0,4]\n",
    "Example 2. Input arr = [1,2,3], Output = [1,2,3]"
   ]
  },
  {
   "cell_type": "code",
   "execution_count": null,
   "id": "755038c9",
   "metadata": {},
   "outputs": [],
   "source": [
    "def duplicate_zeros(mylist):\n",
    "    for i in range(len(mylist)-1,-1,-1):\n",
    "        if mylist[i]==0:\n",
    "            mylist.insert(i+1,0)\n",
    "            mylist.pop()\n",
    "    return mylist "
   ]
  },
  {
   "cell_type": "code",
   "execution_count": null,
   "id": "801d0c93",
   "metadata": {},
   "outputs": [
    {
     "data": {
      "text/plain": [
       "[1, 2, 0, 0, 7, 9, 3]"
      ]
     },
     "execution_count": 3,
     "metadata": {},
     "output_type": "execute_result"
    }
   ],
   "source": [
    "duplicate_zeros([1,2,0,7,9,3,0])"
   ]
  },
  {
   "cell_type": "markdown",
   "id": "d18d61c5",
   "metadata": {},
   "source": [
    "### 19. Remove One Element to Make the Array Strictly Increasing\n",
    "Given a 0-indexed integer array nums, return true if it can be made strictly increasing after removing exactly one element, or false otherwise. If the array is already strictly increasing, return true.\n",
    "\n",
    "The array nums is strictly increasing if nums[i - 1] < nums[i] for each index (1 <= i < nums.length).\n",
    "\n",
    "Examples\n",
    "nums = [1,2,10,5,7] returns True (if you extract 10)\n",
    "nums = [2,3,1,2] returns False (no number can be extracted)"
   ]
  },
  {
   "cell_type": "code",
   "execution_count": null,
   "id": "9e43f902",
   "metadata": {},
   "outputs": [],
   "source": [
    "def canBeIncreasing(nums: list[int]) -> bool:\n",
    "    removed_once = False\n",
    "    for i in range(1, len(nums)):\n",
    "        print(f'i:{i}, nums[i]:{nums[i]}, nums[i-1]:{nums[i-1]}')\n",
    "        if nums[i] <= nums[i-1]:\n",
    "            if removed_once:\n",
    "                return False\n",
    "            print(f'i:{i}, nums[i]:{nums[i]}, nums[i-2]:{nums[i-2]}')\n",
    "            if i > 1 and nums[i] <= nums[i-2]:\n",
    "                print('yes')\n",
    "                nums[i] = nums[i-1]\n",
    "            removed_once = True\n",
    "    return True"
   ]
  },
  {
   "cell_type": "code",
   "execution_count": null,
   "id": "65f9182c",
   "metadata": {},
   "outputs": [
    {
     "name": "stdout",
     "output_type": "stream",
     "text": [
      "i:1, nums[i]:3, nums[i-1]:2\n",
      "i:2, nums[i]:1, nums[i-1]:3\n",
      "i:2, nums[i]:1, nums[i-2]:2\n",
      "yes\n",
      "i:3, nums[i]:2, nums[i-1]:3\n"
     ]
    },
    {
     "data": {
      "text/plain": [
       "False"
      ]
     },
     "execution_count": 18,
     "metadata": {},
     "output_type": "execute_result"
    }
   ],
   "source": [
    "canBeIncreasing([2,3,1,2])"
   ]
  },
  {
   "cell_type": "markdown",
   "id": "de6c3e80",
   "metadata": {},
   "source": [
    "### 20. Top K frequent words\n",
    "Given an array of strings words and an integer k, return the k most frequent strings.\n",
    "\n",
    "Return the answer sorted by the frequency from highest to lowest. Sort the words with the same frequency by their lexicographical order.\n",
    "Example  \n",
    "Input: words = [\"i\",\"love\",\"leetcode\",\"i\",\"love\",\"coding\"], k = 2  \n",
    "Output: [\"i\",\"love\"]  \n",
    "Input: words = [\"the\",\"day\",\"is\",\"sunny\",\"the\",\"the\",\"the\",\"sunny\",\"is\",\"is\"], k = 4  \n",
    "Output: [\"the\",\"is\",\"sunny\",\"day\"]  \n"
   ]
  },
  {
   "cell_type": "code",
   "execution_count": null,
   "id": "728699a9",
   "metadata": {},
   "outputs": [],
   "source": [
    "def topKFrequent(words: list[str], k: int) -> list[str]:\n",
    "    d = {}\n",
    "    words.sort()\n",
    "    for word in words:\n",
    "        d[word] = d.get(word,0) + 1\n",
    "    \n",
    "    #res = sorted(d, key=lambda word: (-d[word],word))\n",
    "    res = sorted(d.items(), key=lambda x: x[1], reverse=True)\n",
    "\n",
    "    return res[:k]"
   ]
  },
  {
   "cell_type": "code",
   "execution_count": null,
   "id": "b997873a",
   "metadata": {},
   "outputs": [
    {
     "data": {
      "text/plain": [
       "[('i', 2), ('love', 2), ('coding', 1), ('leetcode', 1), ('programming', 1)]"
      ]
     },
     "execution_count": 46,
     "metadata": {},
     "output_type": "execute_result"
    }
   ],
   "source": [
    "topKFrequent([\"i\",\"love\",\"programming\",\"i\",\"love\",\"coding\",\"leetcode\"],5)"
   ]
  },
  {
   "cell_type": "code",
   "execution_count": null,
   "id": "07bd0846",
   "metadata": {},
   "outputs": [
    {
     "data": {
      "text/plain": [
       "[('i', 2), ('love', 2), ('leetcode', 1), ('coding', 1)]"
      ]
     },
     "execution_count": 33,
     "metadata": {},
     "output_type": "execute_result"
    }
   ],
   "source": [
    "mydict = {'i': 2, 'love': 2, 'leetcode': 1, 'coding': 1}\n",
    "sorted(mydict.items(), key=lambda x: x[1], reverse=True)"
   ]
  },
  {
   "cell_type": "markdown",
   "id": "ee9b5871",
   "metadata": {},
   "source": [
    "### 21. Reorder Data in  Log Files\n",
    "You are given an array of logs. Each log is a space-delimited string of words, where the first word is the identifier.\n",
    "\n",
    "There are two types of logs:\n",
    "\n",
    "Letter-logs: All words (except the identifier) consist of lowercase English letters.\n",
    "Digit-logs: All words (except the identifier) consist of digits.\n",
    "\n",
    "Reorder these logs so that:\n",
    "\n",
    "1. The letter-logs come before all digit-logs.\n",
    "2. The letter-logs are sorted lexicographically by their contents. If their contents are the same, then sort them lexicographically by their identifiers.\n",
    "3. The digit-logs maintain their relative ordering.\n",
    "\n",
    "Examples:\n",
    "Input: logs = [\"dig1 8 1 5 1\",\"let1 art can\",\"dig2 3 6\",\"let2 own kit dig\",\"let3 art zero\"]\n",
    "Output: [\"let1 art can\",\"let3 art zero\",\"let2 own kit dig\",\"dig1 8 1 5 1\",\"dig2 3 6\"]\n",
    "Input: logs = [\"a1 9 2 3 1\",\"g1 act car\",\"zo4 4 7\",\"ab1 off key dog\",\"a8 act zoo\"]\n",
    "Output: [\"g1 act car\",\"a8 act zoo\",\"ab1 off key dog\",\"a1 9 2 3 1\",\"zo4 4 7\"]"
   ]
  },
  {
   "cell_type": "code",
   "execution_count": 66,
   "id": "0c159a95",
   "metadata": {},
   "outputs": [],
   "source": [
    "def reorderLogFiles(logs: list[str]) -> list[str]:\n",
    "    letter_logs = []\n",
    "    digit_logs = []\n",
    "    for log in logs:\n",
    "        if log.split(' ')[1].isnumeric():\n",
    "            digit_logs.append(log)\n",
    "        else:\n",
    "            letter_logs.append(log)\n",
    "    print(letter_logs)\n",
    "    print(digit_logs)\n",
    "    return sorted(letter_logs, key=lambda x: (x.split()[1:], x.split()[0])) + digit_logs"
   ]
  },
  {
   "cell_type": "code",
   "execution_count": 64,
   "id": "51a83b73",
   "metadata": {},
   "outputs": [],
   "source": [
    "def reorderLogFiles(logs):\n",
    "    letters = []\n",
    "    digits = []\n",
    "    for log in logs:\n",
    "        if log.split()[1].isdigit():\n",
    "            digits.append(log)\n",
    "        else:\n",
    "            letters.append(log)\n",
    "    letters.sort(key=lambda x: (x.split()[1:], x.split()[0]))\n",
    "    return letters + digits"
   ]
  },
  {
   "cell_type": "code",
   "execution_count": 67,
   "id": "98b810d3",
   "metadata": {},
   "outputs": [
    {
     "name": "stdout",
     "output_type": "stream",
     "text": [
      "['let1 art can', 'let2 own kit dig', 'let3 art zero']\n",
      "['dig1 8 1 5 1', 'dig2 3 6']\n"
     ]
    },
    {
     "data": {
      "text/plain": [
       "['let1 art can',\n",
       " 'let3 art zero',\n",
       " 'let2 own kit dig',\n",
       " 'dig1 8 1 5 1',\n",
       " 'dig2 3 6']"
      ]
     },
     "execution_count": 67,
     "metadata": {},
     "output_type": "execute_result"
    }
   ],
   "source": [
    "reorderLogFiles(logs=[\"dig1 8 1 5 1\",\"let1 art can\",\"dig2 3 6\",\"let2 own kit dig\",\"let3 art zero\"])"
   ]
  },
  {
   "cell_type": "code",
   "execution_count": 80,
   "id": "84b0be9f",
   "metadata": {},
   "outputs": [
    {
     "data": {
      "text/plain": [
       "['a 3', 'a 5', 'b 6', 'c 3']"
      ]
     },
     "execution_count": 80,
     "metadata": {},
     "output_type": "execute_result"
    }
   ],
   "source": [
    "sorted(['a 3','a 5','b 6','c 3'], key= lambda x: (x.split()[0],x.split()[1]))"
   ]
  },
  {
   "cell_type": "code",
   "execution_count": 87,
   "id": "64f92a39",
   "metadata": {},
   "outputs": [
    {
     "data": {
      "text/plain": [
       "['Anthony', 'Peter', 'John', 'Jana', 'Jake', 'Dick', 'Leo']"
      ]
     },
     "execution_count": 87,
     "metadata": {},
     "output_type": "execute_result"
    }
   ],
   "source": [
    "sorted(['Jake','John','Jana','Dick','Leo','Peter','Anthony'], key= lambda x: (len(x),x), reverse=True)"
   ]
  },
  {
   "cell_type": "code",
   "execution_count": null,
   "id": "2db35eeb",
   "metadata": {},
   "outputs": [],
   "source": []
  }
 ],
 "metadata": {
  "interpreter": {
   "hash": "bc7f7a2d7b5a13e1df9879b693cf35a001b0abe7ad7fabfa2efe5a3b8907473a"
  },
  "kernelspec": {
   "display_name": "Python 3.7.10 ('Commons')",
   "language": "python",
   "name": "python3"
  },
  "language_info": {
   "codemirror_mode": {
    "name": "ipython",
    "version": 3
   },
   "file_extension": ".py",
   "mimetype": "text/x-python",
   "name": "python",
   "nbconvert_exporter": "python",
   "pygments_lexer": "ipython3",
   "version": "3.10.10"
  }
 },
 "nbformat": 4,
 "nbformat_minor": 5
}
