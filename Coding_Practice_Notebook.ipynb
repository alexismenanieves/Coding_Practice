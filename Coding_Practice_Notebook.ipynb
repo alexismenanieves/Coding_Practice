{
 "cells": [
  {
   "cell_type": "markdown",
   "id": "divine-spread",
   "metadata": {},
   "source": [
    "## Coding Practice"
   ]
  },
  {
   "cell_type": "markdown",
   "id": "upset-basis",
   "metadata": {},
   "source": [
    "### 1. Maximum 69 number\n",
    "Given a positive integer num consisting only of digits 6 and 9. Return the maximum number you can get by changing at most one digit (6 becomes 9, and 9 becomes 6)."
   ]
  },
  {
   "cell_type": "code",
   "execution_count": 5,
   "id": "attractive-stations",
   "metadata": {},
   "outputs": [
    {
     "data": {
      "text/plain": [
       "99696"
      ]
     },
     "execution_count": 5,
     "metadata": {},
     "output_type": "execute_result"
    }
   ],
   "source": [
    "def max69number(x: int)-> int:\n",
    "    \"\"\"\n",
    "    type x: int\n",
    "    rtype: int\n",
    "    \"\"\"\n",
    "    # Explanation: Just change the first 6 number to 9 and it will be the max number\n",
    "    return(int(str(x).replace('6','9',1)))\n",
    "\n",
    "max69number(96696)"
   ]
  },
  {
   "cell_type": "markdown",
   "id": "played-segment",
   "metadata": {},
   "source": [
    "### 2. Two sum\n",
    "Given an array of integers *nums* and an integer *target*, return indices of the two numbers such that they add up to target. You may assume that each input would have exactly one solution, and you may not use the same element twice. You can return the answer in any order."
   ]
  },
  {
   "cell_type": "code",
   "execution_count": null,
   "id": "emotional-stable",
   "metadata": {},
   "outputs": [],
   "source": [
    "def twosum(nums: List, target:int):\n",
    "    \"\"\"\n",
    "    type nums: List[int]\n",
    "    type target: int\n",
    "    rtype: List \n",
    "    \"\"\"\n",
    "    "
   ]
  }
 ],
 "metadata": {
  "kernelspec": {
   "display_name": "Python 3",
   "language": "python",
   "name": "python3"
  },
  "language_info": {
   "codemirror_mode": {
    "name": "ipython",
    "version": 3
   },
   "file_extension": ".py",
   "mimetype": "text/x-python",
   "name": "python",
   "nbconvert_exporter": "python",
   "pygments_lexer": "ipython3",
   "version": "3.6.13"
  }
 },
 "nbformat": 4,
 "nbformat_minor": 5
}
