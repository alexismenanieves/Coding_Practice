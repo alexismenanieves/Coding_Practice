{
 "cells": [
  {
   "cell_type": "markdown",
   "id": "impaired-acrylic",
   "metadata": {},
   "source": [
    "## Coding Practice"
   ]
  },
  {
   "cell_type": "markdown",
   "id": "undefined-campbell",
   "metadata": {},
   "source": [
    "### 1. Maximum 69 number\n",
    "Given a positive integer num consisting only of digits 6 and 9. Return the maximum number you can get by changing at most one digit (6 becomes 9, and 9 becomes 6)."
   ]
  },
  {
   "cell_type": "code",
   "execution_count": 3,
   "id": "continued-sheriff",
   "metadata": {},
   "outputs": [
    {
     "data": {
      "text/plain": [
       "99966"
      ]
     },
     "execution_count": 3,
     "metadata": {},
     "output_type": "execute_result"
    }
   ],
   "source": [
    "def max69number(x: int)-> int:\n",
    "    \"\"\"\n",
    "    type x: int\n",
    "    rtype: int\n",
    "    \"\"\"\n",
    "    # Explanation: Just change the first 6 number to 9 and it will be the max number\n",
    "    return(int(str(x).replace('6','9',1)))\n",
    "\n",
    "max69number(99666)"
   ]
  },
  {
   "cell_type": "code",
   "execution_count": null,
   "id": "monetary-eagle",
   "metadata": {},
   "outputs": [],
   "source": []
  }
 ],
 "metadata": {
  "kernelspec": {
   "display_name": "Python 3",
   "language": "python",
   "name": "python3"
  },
  "language_info": {
   "codemirror_mode": {
    "name": "ipython",
    "version": 3
   },
   "file_extension": ".py",
   "mimetype": "text/x-python",
   "name": "python",
   "nbconvert_exporter": "python",
   "pygments_lexer": "ipython3",
   "version": "3.6.13"
  }
 },
 "nbformat": 4,
 "nbformat_minor": 5
}
