{
 "cells": [
  {
   "cell_type": "markdown",
   "id": "prescription-cisco",
   "metadata": {},
   "source": [
    "## Coding Practice"
   ]
  },
  {
   "cell_type": "markdown",
   "id": "convinced-clause",
   "metadata": {},
   "source": [
    "### 1. Maximum 69 number\n",
    "Given a positive integer num consisting only of digits 6 and 9. Return the maximum number you can get by changing at most one digit (6 becomes 9, and 9 becomes 6)."
   ]
  },
  {
   "cell_type": "code",
   "execution_count": 1,
   "id": "written-candle",
   "metadata": {},
   "outputs": [
    {
     "data": {
      "text/plain": [
       "99696"
      ]
     },
     "execution_count": 1,
     "metadata": {},
     "output_type": "execute_result"
    }
   ],
   "source": [
    "def max69number(x: int)-> int:\n",
    "    \"\"\"\n",
    "    type x: int\n",
    "    rtype: int\n",
    "    \"\"\"\n",
    "    # Explanation: Just change the first 6 number to 9 and it will be the max number\n",
    "    return(int(str(x).replace('6','9',1)))\n",
    "\n",
    "max69number(96696)"
   ]
  },
  {
   "cell_type": "markdown",
   "id": "little-substance",
   "metadata": {},
   "source": [
    "### 2. Two sum\n",
    "Given an array of integers *nums* and an integer *target*, return indices of the two numbers such that they add up to target. You may assume that each input would have exactly one solution, and you may not use the same element twice. You can return the answer in any order."
   ]
  },
  {
   "cell_type": "code",
   "execution_count": 2,
   "id": "anonymous-assault",
   "metadata": {},
   "outputs": [
    {
     "data": {
      "text/plain": [
       "(1, 2)"
      ]
     },
     "execution_count": 2,
     "metadata": {},
     "output_type": "execute_result"
    }
   ],
   "source": [
    "def twosum(nums, target:int):\n",
    "    \"\"\"\n",
    "    type nums: List[int]\n",
    "    type target: int\n",
    "    rtype: List \n",
    "    \"\"\"\n",
    "    nums_index = [(v,index) for index, v in enumerate(nums)]\n",
    "    nums_index.sort()\n",
    "    begin, end = 0, len(nums) - 1\n",
    "    while begin < end:\n",
    "        curr = nums_index[begin][0] + nums_index[end][0]\n",
    "        if curr == target:\n",
    "            return(nums_index[begin][1],nums_index[end][1])\n",
    "        elif curr < target:\n",
    "            begin += 1\n",
    "        else:\n",
    "            end -= 1\n",
    "\n",
    "twosum([2,3,4],7)\n",
    "    "
   ]
  },
  {
   "cell_type": "markdown",
   "id": "desperate-morocco",
   "metadata": {},
   "source": [
    "### 3. Plus one\n",
    "Given a non-empty array of decimal digits representing a non-negative integer, increment one to the integer. The digits are stored such that the most significant digit is at the head of the list, and each element in the array contains a single digit. You may assume the integer does not contain any leading zero, except the number 0 itself."
   ]
  },
  {
   "cell_type": "code",
   "execution_count": 3,
   "id": "liquid-twist",
   "metadata": {},
   "outputs": [
    {
     "data": {
      "text/plain": [
       "[9, 9, 0, 0]"
      ]
     },
     "execution_count": 3,
     "metadata": {},
     "output_type": "execute_result"
    }
   ],
   "source": [
    "def plus_one(nums):\n",
    "    \"\"\"\n",
    "    type nums: List[int]\n",
    "    rtype: List[int]\n",
    "    \"\"\"\n",
    "    l_nums = len(nums)\n",
    "    for index in reversed(range(l_nums)):\n",
    "        if nums[index]<9:\n",
    "            nums[index] +=1\n",
    "            return nums\n",
    "        else:\n",
    "            nums[index] = 0\n",
    "    nums.insert(0,1)\n",
    "    return nums\n",
    "\n",
    "plus_one([9,8,9,9])\n",
    "            "
   ]
  },
  {
   "cell_type": "markdown",
   "id": "inside-rally",
   "metadata": {},
   "source": [
    "### 4. A linked list implementation\n",
    "Linked List is defined as a data structure wherein the elements are not stored at contiguous memory locations and are linked using pointers. Implement a singly linked list."
   ]
  },
  {
   "cell_type": "code",
   "execution_count": 15,
   "id": "split-contamination",
   "metadata": {},
   "outputs": [],
   "source": [
    "class Node:\n",
    "    def __init__(self, val):\n",
    "        self.value = val\n",
    "        self.next = None\n",
    "\n",
    "class LinkedList:\n",
    "    def __init__(self):\n",
    "        self.head = None\n",
    "    \n",
    "    def push(self, new_val):\n",
    "        new_node = Node(new_val)\n",
    "        new_node.next = self.head\n",
    "        self.head = new_node\n",
    "    \n",
    "    def print_elements(self):\n",
    "        if self.head is None:\n",
    "            return \"\"\n",
    "        node = self.head\n",
    "        while node:\n",
    "            print(node.value, end =' ')\n",
    "            node = node.next"
   ]
  },
  {
   "cell_type": "code",
   "execution_count": 16,
   "id": "congressional-output",
   "metadata": {},
   "outputs": [],
   "source": [
    "ll = LinkedList()"
   ]
  },
  {
   "cell_type": "code",
   "execution_count": 17,
   "id": "adequate-supervision",
   "metadata": {},
   "outputs": [],
   "source": [
    "ll.push(3)"
   ]
  },
  {
   "cell_type": "code",
   "execution_count": 18,
   "id": "sharing-victoria",
   "metadata": {},
   "outputs": [],
   "source": [
    "ll.push(4)"
   ]
  },
  {
   "cell_type": "code",
   "execution_count": 19,
   "id": "fifty-psychology",
   "metadata": {},
   "outputs": [
    {
     "name": "stdout",
     "output_type": "stream",
     "text": [
      "4 3 "
     ]
    }
   ],
   "source": [
    "ll.print_elements()"
   ]
  },
  {
   "cell_type": "markdown",
   "id": "established-andorra",
   "metadata": {},
   "source": [
    "### 5. Check if random variable are independent\n",
    "You are given a table distr_table with a joint probability distribution of two random variables X and Y\n",
    "\n",
    "|X|Y|pr  |\n",
    "|-|-|----|\n",
    "|0|1|0.30|\n",
    "|0|2|0.25|\n",
    "|1|1|0.15|\n",
    "|1|2|0.30|\n",
    "\n",
    "For example, $ P(X=0 \\wedge Y=1) = 0.3 $ and $ P(Y=1) = 0.3 + 0.15 = 0.45 $\n",
    "You can see that probabilities in the third column add up to 1.\n",
    "\n",
    "Write a function *check_independence* that for a given distribution table returns a named list with  three values: \n",
    "- First element (named are_independent): Is a boolean which states if X and Y are independent (true) or not (false). Two random variables are independent if for each possible value x for X and y for Y: $ P(X=x \\wedge Y=y) = P(X=x) * P(Y=y) $ \n",
    "- Second element (named cov): Is a covariance between X and Y (i is an indicator of i-th of n possible pairs $ Cov(X,Y) = \\sum_{i=1}^{n} p_i(x_i - \\mu_x)(y_i - \\mu_y) $ where $ \\mu_x = \\sum_{j=1}^{m} p_jx_j $ and $ \\mu_y = \\sum_{k=1}^{l} p_ky_k $ \n",
    "- Third element (named corr): Is a correlation coefficient between X and Y, such as $ corr(X,Y) = \\frac{Cov(X,Y)}{\\sigma_x \\sigma_y} $ where $ \\sigma_x = \\sqrt{\\sum_{j=1}^{m}p_j(x_j-\\mu_x)^2}$ and $ \\sigma_y = \\sqrt{\\sum_{k=1}^{l}p_k(y_k-\\mu_y)^2} $\n",
    "\n",
    "In above equations m and l are numbers of unique values of X and Y respectively. Note that you can't use built-in equations for covariance and correlations since we use distributions, not realizations to describe variables X and Y. "
   ]
  },
  {
   "cell_type": "code",
   "execution_count": 31,
   "id": "coordinated-office",
   "metadata": {},
   "outputs": [
    {
     "data": {
      "text/plain": [
       "'The mean of {1: 0.44999999999999996, 2: 0.55} is 1.55'"
      ]
     },
     "execution_count": 31,
     "metadata": {},
     "output_type": "execute_result"
    }
   ],
   "source": [
    "import pandas as pd\n",
    "from math import sqrt\n",
    "\n",
    "distr_table = pd.DataFrame({\n",
    "    'X': [0,0,1,1],\n",
    "    'Y': [1,2,1,2],\n",
    "    'pr': [0.3,0.25,0.15,0.3]\n",
    "})\n",
    "\n",
    "def mass(values, probs):\n",
    "    \"\"\"\n",
    "    Dict of value with marginal probability\n",
    "    \"\"\"\n",
    "    var_pr = {}\n",
    "    for i, pr in enumerate(probs):\n",
    "        var_pr[values[i]] = var_pr.get(values[i],.0) + pr\n",
    "    return var_pr\n",
    "\n",
    "def mean(mass_dict):\n",
    "    mu = .0\n",
    "    for val, pr in mass_dict.items():\n",
    "        mu += pr * val\n",
    "    return mu\n",
    "\n",
    "def std_dev(mass_dict, mu):\n",
    "    sigma = .0\n",
    "    for val, pr in mass_dict.items():\n",
    "        sigma += pr * pow(val-mu,2)\n",
    "\n",
    "var_pr = {}\n",
    "x_list = distr_table['X'].to_list()\n",
    "y_list = distr_table['Y'].to_list()\n",
    "pr_list = distr_table['pr'].to_list()\n",
    "\n",
    "the_mass = mass(y_list, pr_list)\n",
    "the_mean = mean(the_mass)\n",
    "\n",
    "f'The mean of {the_mass} is {the_mean}'\n"
   ]
  },
  {
   "cell_type": "code",
   "execution_count": 29,
   "id": "electronic-ordinary",
   "metadata": {},
   "outputs": [
    {
     "name": "stdout",
     "output_type": "stream",
     "text": [
      "0.3\n",
      "1\n",
      "0.25\n",
      "2\n",
      "0.15\n",
      "1\n",
      "0.3\n",
      "2\n"
     ]
    },
    {
     "data": {
      "text/plain": [
       "{1: 0.44999999999999996, 2: 0.55}"
      ]
     },
     "execution_count": 29,
     "metadata": {},
     "output_type": "execute_result"
    }
   ],
   "source": [
    "var_pr = {}\n",
    "for i, pr in enumerate(pr_list):\n",
    "    print(pr)\n",
    "    print(y_list[i])\n",
    "    var_pr[y_list[i]] = var_pr.get(y_list[i],.0) + pr\n",
    "    \n",
    "var_pr"
   ]
  },
  {
   "cell_type": "code",
   "execution_count": null,
   "id": "subsequent-router",
   "metadata": {},
   "outputs": [],
   "source": []
  }
 ],
 "metadata": {
  "kernelspec": {
   "display_name": "Python 3",
   "language": "python",
   "name": "python3"
  },
  "language_info": {
   "codemirror_mode": {
    "name": "ipython",
    "version": 3
   },
   "file_extension": ".py",
   "mimetype": "text/x-python",
   "name": "python",
   "nbconvert_exporter": "python",
   "pygments_lexer": "ipython3",
   "version": "3.6.13"
  }
 },
 "nbformat": 4,
 "nbformat_minor": 5
}
